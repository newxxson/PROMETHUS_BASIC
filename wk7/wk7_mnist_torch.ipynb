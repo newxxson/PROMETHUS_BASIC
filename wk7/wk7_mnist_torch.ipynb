{
 "cells": [
  {
   "attachments": {},
   "cell_type": "markdown",
   "metadata": {},
   "source": [
    "# Vanila PyTorch"
   ]
  },
  {
   "cell_type": "code",
   "execution_count": 1,
   "metadata": {},
   "outputs": [],
   "source": [
    "import torch as th\n",
    "import torch.nn as nn\n",
    "import torch.nn.functional as F\n",
    "import torch.optim as optim\n",
    "\n",
    "import torchvision\n",
    "import torchvision.transforms as transforms\n",
    "\n",
    "import matplotlib.pyplot as plt\n",
    "import numpy as np\n",
    "\n",
    "from torchvision.datasets.mnist import MNIST\n",
    "from torch.utils.data import DataLoader, Dataset, random_split"
   ]
  },
  {
   "cell_type": "code",
   "execution_count": 2,
   "metadata": {},
   "outputs": [],
   "source": [
    "import random\n",
    "\n",
    "seed = 1004\n",
    "random.seed(seed)\n",
    "th.manual_seed(seed)\n",
    "if th.cuda.is_available():\n",
    "    th.cuda.manual_seed(seed)"
   ]
  },
  {
   "cell_type": "code",
   "execution_count": 3,
   "metadata": {},
   "outputs": [],
   "source": [
    "# load dataset\n",
    "\n",
    "transform = transforms.Compose([transforms.ToTensor(),\n",
    "                                transforms.Normalize((0.1307,), (0.3081,))])\n",
    "\n",
    "train_dataset = MNIST(root='./data', train=True, download=True, transform=transform)\n",
    "test_dataset = MNIST(root='./data', train=False, download=True, transform=transform)"
   ]
  },
  {
   "cell_type": "code",
   "execution_count": 4,
   "metadata": {},
   "outputs": [
    {
     "data": {
      "text/plain": [
       "Dataset MNIST\n",
       "    Number of datapoints: 60000\n",
       "    Root location: ./data\n",
       "    Split: Train\n",
       "    StandardTransform\n",
       "Transform: Compose(\n",
       "               ToTensor()\n",
       "               Normalize(mean=(0.1307,), std=(0.3081,))\n",
       "           )"
      ]
     },
     "execution_count": 4,
     "metadata": {},
     "output_type": "execute_result"
    }
   ],
   "source": [
    "train_dataset"
   ]
  },
  {
   "cell_type": "code",
   "execution_count": 5,
   "metadata": {},
   "outputs": [
    {
     "data": {
      "text/plain": [
       "Dataset MNIST\n",
       "    Number of datapoints: 10000\n",
       "    Root location: ./data\n",
       "    Split: Test\n",
       "    StandardTransform\n",
       "Transform: Compose(\n",
       "               ToTensor()\n",
       "               Normalize(mean=(0.1307,), std=(0.3081,))\n",
       "           )"
      ]
     },
     "execution_count": 5,
     "metadata": {},
     "output_type": "execute_result"
    }
   ],
   "source": [
    "test_dataset"
   ]
  },
  {
   "cell_type": "code",
   "execution_count": 6,
   "metadata": {},
   "outputs": [],
   "source": [
    "train_dataset, val_dataset = random_split(train_dataset, [54000, 6000])"
   ]
  },
  {
   "cell_type": "code",
   "execution_count": 7,
   "metadata": {},
   "outputs": [
    {
     "name": "stdout",
     "output_type": "stream",
     "text": [
      "Train size: 54000\n",
      "Validation size: 6000\n",
      "Test size: 10000\n"
     ]
    }
   ],
   "source": [
    "print(f'Train size: {len(train_dataset)}')\n",
    "print(f'Validation size: {len(val_dataset)}')\n",
    "print(f'Test size: {len(test_dataset)}')"
   ]
  },
  {
   "cell_type": "code",
   "execution_count": 8,
   "metadata": {},
   "outputs": [],
   "source": [
    "batch_size = 64\n",
    "\n",
    "trian_loader = DataLoader(train_dataset, batch_size=batch_size, shuffle=True, drop_last=True)\n",
    "val_loader = DataLoader(val_dataset, batch_size=batch_size, shuffle=False, drop_last=True)\n",
    "test_loader = DataLoader(test_dataset, batch_size=batch_size, shuffle=False, drop_last=True)"
   ]
  },
  {
   "cell_type": "code",
   "execution_count": 9,
   "metadata": {},
   "outputs": [
    {
     "data": {
      "image/png": "[encoded data removed]",
      "text/plain": [
       "<Figure size 1080x216 with 5 Axes>"
      ]
     },
     "metadata": {
      "needs_background": "light"
     },
     "output_type": "display_data"
    }
   ],
   "source": [
    "num_sample = 5\n",
    "random_idx = np.random.randint(0, len(train_dataset), num_sample)\n",
    "\n",
    "plt.figure(figsize=(15, 3))\n",
    "for i, idx in enumerate(random_idx):\n",
    "    img, label = train_dataset[idx]\n",
    "    plt.subplot(1, num_sample, i+1)\n",
    "    plt.title(f'Label: {label}')\n",
    "    plt.imshow(img.squeeze(), cmap='gray')\n",
    "    plt.axis('off')"
   ]
  },
  {
   "cell_type": "code",
   "execution_count": 10,
   "metadata": {},
   "outputs": [],
   "source": [
    "class Net(nn.Module):\n",
    "    def __init__(self):\n",
    "        super(Net, self).__init__()\n",
    "        self.fc1 = nn.Linear(28*28, 256)\n",
    "        self.fc2 = nn.Linear(256, 64)\n",
    "        self.fc3 = nn.Linear(64, 10)\n",
    "        \n",
    "    def forward(self, x):\n",
    "        x = x.view(-1, 28*28)\n",
    "        x = F.relu(self.fc1(x))\n",
    "        x = F.relu(self.fc2(x))\n",
    "        x = self.fc3(x)\n",
    "        out = F.log_softmax(x, dim=1)\n",
    "        return out"
   ]
  },
  {
   "cell_type": "code",
   "execution_count": 11,
   "metadata": {},
   "outputs": [],
   "source": [
    "def train(model, train_loader, optimizer, epoch, device):\n",
    "    model.train()\n",
    "    train_losses = []\n",
    "    for batch_idx, (data, target) in enumerate(train_loader):\n",
    "        data, target = data.to(device), target.to(device)\n",
    "        optimizer.zero_grad()\n",
    "        output = model(data)\n",
    "        loss = F.nll_loss(output, target)\n",
    "        train_losses.append(loss.item())\n",
    "        \n",
    "        loss.backward()\n",
    "        optimizer.step()\n",
    "        \n",
    "        if batch_idx % 100 == 0:\n",
    "            print(f'Train Epoch: {epoch} [{batch_idx * len(data)}/{len(train_loader.dataset)} '\n",
    "                  f'({100. * batch_idx / len(train_loader):.0f}%)]\\tLoss: {loss.item():.6f}')\n",
    "            \n",
    "    return np.mean(train_losses)\n",
    "\n",
    "def test(model, test_loader, device):\n",
    "    model.eval()\n",
    "    test_loss = 0\n",
    "    correct = 0\n",
    "\n",
    "    with th.no_grad():\n",
    "        for data, target in test_loader:\n",
    "            data, target = data.to(device), target.to(device)\n",
    "            output = model(data)\n",
    "            test_loss += F.nll_loss(output, target, reduction='sum').item()\n",
    "            pred = output.argmax(dim=1, keepdim=True)\n",
    "            correct += pred.eq(target.view_as(pred)).sum().item()\n",
    "\n",
    "    test_loss /= len(test_loader.dataset)\n",
    "\n",
    "    print(f'\\nTest set: Average loss: {test_loss:.4f}, '\n",
    "          f'Accuracy: {correct}/{len(test_loader.dataset)} ({100. * correct / len(test_loader.dataset)}%)\\n')\n",
    "\n",
    "    return test_loss"
   ]
  },
  {
   "cell_type": "code",
   "execution_count": 12,
   "metadata": {},
   "outputs": [],
   "source": [
    "import copy\n",
    "\n",
    "def run(model,\n",
    "        train_loader,\n",
    "        val_loader,\n",
    "        test_loader,\n",
    "        optimizer,\n",
    "        num_epoch):\n",
    "    \n",
    "    device = th.device('cuda' if th.cuda.is_available() else 'cpu')\n",
    "    scheduler = optim.lr_scheduler.StepLR(optimizer, step_size=1, gamma=0.7)\n",
    "    model = model.to(device)\n",
    "    train_losses = []\n",
    "    val_losses = []\n",
    "    \n",
    "    best_model = None\n",
    "    min_val_loss = np.inf\n",
    "    \n",
    "    for epoch in range(1, num_epoch + 1):\n",
    "        train_loss = train(model, train_loader, optimizer, epoch, device)\n",
    "        val_loss = test(model, val_loader, device)\n",
    "        scheduler.step()\n",
    "\n",
    "        train_losses.append(train_loss)\n",
    "        val_losses.append(val_loss)\n",
    "        \n",
    "        if val_loss < min_val_loss:\n",
    "            min_val_loss = val_loss\n",
    "            best_model = copy.deepcopy(model)\n",
    "\n",
    "    # th.save(model.state_dict(), 'mnist.pt')\n",
    "    th.save(best_model.state_dict(), 'mnist.pt')\n",
    "\n",
    "    # test_loss = test(model, test_loader, device)\n",
    "    test_loss = test(best_model, test_loader, device)\n",
    "\n",
    "    return train_losses, val_losses, test_loss\n"
   ]
  },
  {
   "cell_type": "code",
   "execution_count": 13,
   "metadata": {},
   "outputs": [
    {
     "name": "stdout",
     "output_type": "stream",
     "text": [
      "Train Epoch: 1 [0/54000 (0%)]\tLoss: 2.304230\n",
      "Train Epoch: 1 [6400/54000 (12%)]\tLoss: 0.152449\n",
      "Train Epoch: 1 [12800/54000 (24%)]\tLoss: 0.302747\n",
      "Train Epoch: 1 [19200/54000 (36%)]\tLoss: 0.376179\n",
      "Train Epoch: 1 [25600/54000 (47%)]\tLoss: 0.168665\n",
      "Train Epoch: 1 [32000/54000 (59%)]\tLoss: 0.190544\n",
      "Train Epoch: 1 [38400/54000 (71%)]\tLoss: 0.150985\n",
      "Train Epoch: 1 [44800/54000 (83%)]\tLoss: 0.124228\n",
      "Train Epoch: 1 [51200/54000 (95%)]\tLoss: 0.081385\n",
      "\n",
      "Test set: Average loss: 0.1121, Accuracy: 5758/6000 (95.96666666666667%)\n",
      "\n",
      "Train Epoch: 2 [0/54000 (0%)]\tLoss: 0.192086\n",
      "Train Epoch: 2 [6400/54000 (12%)]\tLoss: 0.010522\n",
      "Train Epoch: 2 [12800/54000 (24%)]\tLoss: 0.085059\n",
      "Train Epoch: 2 [19200/54000 (36%)]\tLoss: 0.126042\n",
      "Train Epoch: 2 [25600/54000 (47%)]\tLoss: 0.196535\n",
      "Train Epoch: 2 [32000/54000 (59%)]\tLoss: 0.008515\n",
      "Train Epoch: 2 [38400/54000 (71%)]\tLoss: 0.020873\n",
      "Train Epoch: 2 [44800/54000 (83%)]\tLoss: 0.150342\n",
      "Train Epoch: 2 [51200/54000 (95%)]\tLoss: 0.079477\n",
      "\n",
      "Test set: Average loss: 0.0725, Accuracy: 5819/6000 (96.98333333333333%)\n",
      "\n",
      "Train Epoch: 3 [0/54000 (0%)]\tLoss: 0.050356\n",
      "Train Epoch: 3 [6400/54000 (12%)]\tLoss: 0.179752\n",
      "Train Epoch: 3 [12800/54000 (24%)]\tLoss: 0.024878\n",
      "Train Epoch: 3 [19200/54000 (36%)]\tLoss: 0.034181\n",
      "Train Epoch: 3 [25600/54000 (47%)]\tLoss: 0.009397\n",
      "Train Epoch: 3 [32000/54000 (59%)]\tLoss: 0.040767\n",
      "Train Epoch: 3 [38400/54000 (71%)]\tLoss: 0.033896\n",
      "Train Epoch: 3 [44800/54000 (83%)]\tLoss: 0.013072\n",
      "Train Epoch: 3 [51200/54000 (95%)]\tLoss: 0.004949\n",
      "\n",
      "Test set: Average loss: 0.0673, Accuracy: 5831/6000 (97.18333333333334%)\n",
      "\n",
      "Train Epoch: 4 [0/54000 (0%)]\tLoss: 0.008162\n",
      "Train Epoch: 4 [6400/54000 (12%)]\tLoss: 0.004086\n",
      "Train Epoch: 4 [12800/54000 (24%)]\tLoss: 0.040150\n",
      "Train Epoch: 4 [19200/54000 (36%)]\tLoss: 0.031993\n",
      "Train Epoch: 4 [25600/54000 (47%)]\tLoss: 0.057066\n",
      "Train Epoch: 4 [32000/54000 (59%)]\tLoss: 0.003101\n",
      "Train Epoch: 4 [38400/54000 (71%)]\tLoss: 0.014542\n",
      "Train Epoch: 4 [44800/54000 (83%)]\tLoss: 0.070048\n",
      "Train Epoch: 4 [51200/54000 (95%)]\tLoss: 0.053393\n",
      "\n",
      "Test set: Average loss: 0.0658, Accuracy: 5838/6000 (97.3%)\n",
      "\n",
      "Train Epoch: 5 [0/54000 (0%)]\tLoss: 0.002850\n",
      "Train Epoch: 5 [6400/54000 (12%)]\tLoss: 0.013040\n",
      "Train Epoch: 5 [12800/54000 (24%)]\tLoss: 0.001415\n",
      "Train Epoch: 5 [19200/54000 (36%)]\tLoss: 0.025210\n",
      "Train Epoch: 5 [25600/54000 (47%)]\tLoss: 0.005427\n",
      "Train Epoch: 5 [32000/54000 (59%)]\tLoss: 0.006355\n",
      "Train Epoch: 5 [38400/54000 (71%)]\tLoss: 0.001069\n",
      "Train Epoch: 5 [44800/54000 (83%)]\tLoss: 0.003558\n",
      "Train Epoch: 5 [51200/54000 (95%)]\tLoss: 0.014039\n",
      "\n",
      "Test set: Average loss: 0.0656, Accuracy: 5841/6000 (97.35%)\n",
      "\n",
      "Train Epoch: 6 [0/54000 (0%)]\tLoss: 0.000840\n",
      "Train Epoch: 6 [6400/54000 (12%)]\tLoss: 0.024151\n",
      "Train Epoch: 6 [12800/54000 (24%)]\tLoss: 0.008326\n",
      "Train Epoch: 6 [19200/54000 (36%)]\tLoss: 0.001903\n",
      "Train Epoch: 6 [25600/54000 (47%)]\tLoss: 0.004467\n",
      "Train Epoch: 6 [32000/54000 (59%)]\tLoss: 0.002065\n",
      "Train Epoch: 6 [38400/54000 (71%)]\tLoss: 0.017600\n",
      "Train Epoch: 6 [44800/54000 (83%)]\tLoss: 0.003084\n",
      "Train Epoch: 6 [51200/54000 (95%)]\tLoss: 0.000391\n",
      "\n",
      "Test set: Average loss: 0.0629, Accuracy: 5856/6000 (97.6%)\n",
      "\n",
      "Train Epoch: 7 [0/54000 (0%)]\tLoss: 0.021326\n",
      "Train Epoch: 7 [6400/54000 (12%)]\tLoss: 0.002225\n",
      "Train Epoch: 7 [12800/54000 (24%)]\tLoss: 0.002491\n",
      "Train Epoch: 7 [19200/54000 (36%)]\tLoss: 0.001762\n",
      "Train Epoch: 7 [25600/54000 (47%)]\tLoss: 0.000426\n",
      "Train Epoch: 7 [32000/54000 (59%)]\tLoss: 0.005702\n",
      "Train Epoch: 7 [38400/54000 (71%)]\tLoss: 0.001684\n",
      "Train Epoch: 7 [44800/54000 (83%)]\tLoss: 0.001676\n",
      "Train Epoch: 7 [51200/54000 (95%)]\tLoss: 0.002339\n",
      "\n",
      "Test set: Average loss: 0.0636, Accuracy: 5858/6000 (97.63333333333334%)\n",
      "\n",
      "Train Epoch: 8 [0/54000 (0%)]\tLoss: 0.000557\n",
      "Train Epoch: 8 [6400/54000 (12%)]\tLoss: 0.004178\n",
      "Train Epoch: 8 [12800/54000 (24%)]\tLoss: 0.002079\n",
      "Train Epoch: 8 [19200/54000 (36%)]\tLoss: 0.000381\n",
      "Train Epoch: 8 [25600/54000 (47%)]\tLoss: 0.002132\n",
      "Train Epoch: 8 [32000/54000 (59%)]\tLoss: 0.000100\n",
      "Train Epoch: 8 [38400/54000 (71%)]\tLoss: 0.002603\n",
      "Train Epoch: 8 [44800/54000 (83%)]\tLoss: 0.001627\n",
      "Train Epoch: 8 [51200/54000 (95%)]\tLoss: 0.000904\n",
      "\n",
      "Test set: Average loss: 0.0654, Accuracy: 5856/6000 (97.6%)\n",
      "\n",
      "Train Epoch: 9 [0/54000 (0%)]\tLoss: 0.000682\n",
      "Train Epoch: 9 [6400/54000 (12%)]\tLoss: 0.002076\n",
      "Train Epoch: 9 [12800/54000 (24%)]\tLoss: 0.001409\n",
      "Train Epoch: 9 [19200/54000 (36%)]\tLoss: 0.001157\n",
      "Train Epoch: 9 [25600/54000 (47%)]\tLoss: 0.002201\n",
      "Train Epoch: 9 [32000/54000 (59%)]\tLoss: 0.001228\n",
      "Train Epoch: 9 [38400/54000 (71%)]\tLoss: 0.007350\n",
      "Train Epoch: 9 [44800/54000 (83%)]\tLoss: 0.001075\n",
      "Train Epoch: 9 [51200/54000 (95%)]\tLoss: 0.004664\n",
      "\n",
      "Test set: Average loss: 0.0670, Accuracy: 5853/6000 (97.55%)\n",
      "\n",
      "Train Epoch: 10 [0/54000 (0%)]\tLoss: 0.000666\n",
      "Train Epoch: 10 [6400/54000 (12%)]\tLoss: 0.000761\n",
      "Train Epoch: 10 [12800/54000 (24%)]\tLoss: 0.009556\n",
      "Train Epoch: 10 [19200/54000 (36%)]\tLoss: 0.000963\n",
      "Train Epoch: 10 [25600/54000 (47%)]\tLoss: 0.001138\n",
      "Train Epoch: 10 [32000/54000 (59%)]\tLoss: 0.005099\n",
      "Train Epoch: 10 [38400/54000 (71%)]\tLoss: 0.003445\n",
      "Train Epoch: 10 [44800/54000 (83%)]\tLoss: 0.000357\n",
      "Train Epoch: 10 [51200/54000 (95%)]\tLoss: 0.001436\n",
      "\n",
      "Test set: Average loss: 0.0662, Accuracy: 5856/6000 (97.6%)\n",
      "\n",
      "Train Epoch: 11 [0/54000 (0%)]\tLoss: 0.000840\n",
      "Train Epoch: 11 [6400/54000 (12%)]\tLoss: 0.001670\n",
      "Train Epoch: 11 [12800/54000 (24%)]\tLoss: 0.003906\n",
      "Train Epoch: 11 [19200/54000 (36%)]\tLoss: 0.000754\n",
      "Train Epoch: 11 [25600/54000 (47%)]\tLoss: 0.000452\n",
      "Train Epoch: 11 [32000/54000 (59%)]\tLoss: 0.002871\n",
      "Train Epoch: 11 [38400/54000 (71%)]\tLoss: 0.004050\n",
      "Train Epoch: 11 [44800/54000 (83%)]\tLoss: 0.003356\n",
      "Train Epoch: 11 [51200/54000 (95%)]\tLoss: 0.003369\n",
      "\n",
      "Test set: Average loss: 0.0668, Accuracy: 5857/6000 (97.61666666666666%)\n",
      "\n",
      "Train Epoch: 12 [0/54000 (0%)]\tLoss: 0.000770\n",
      "Train Epoch: 12 [6400/54000 (12%)]\tLoss: 0.000708\n",
      "Train Epoch: 12 [12800/54000 (24%)]\tLoss: 0.002860\n",
      "Train Epoch: 12 [19200/54000 (36%)]\tLoss: 0.001167\n",
      "Train Epoch: 12 [25600/54000 (47%)]\tLoss: 0.000812\n",
      "Train Epoch: 12 [32000/54000 (59%)]\tLoss: 0.000944\n",
      "Train Epoch: 12 [38400/54000 (71%)]\tLoss: 0.001577\n",
      "Train Epoch: 12 [44800/54000 (83%)]\tLoss: 0.004521\n",
      "Train Epoch: 12 [51200/54000 (95%)]\tLoss: 0.002072\n",
      "\n",
      "Test set: Average loss: 0.0668, Accuracy: 5857/6000 (97.61666666666666%)\n",
      "\n",
      "Train Epoch: 13 [0/54000 (0%)]\tLoss: 0.003356\n",
      "Train Epoch: 13 [6400/54000 (12%)]\tLoss: 0.001492\n",
      "Train Epoch: 13 [12800/54000 (24%)]\tLoss: 0.000931\n",
      "Train Epoch: 13 [19200/54000 (36%)]\tLoss: 0.002136\n",
      "Train Epoch: 13 [25600/54000 (47%)]\tLoss: 0.003566\n",
      "Train Epoch: 13 [32000/54000 (59%)]\tLoss: 0.000860\n",
      "Train Epoch: 13 [38400/54000 (71%)]\tLoss: 0.002537\n",
      "Train Epoch: 13 [44800/54000 (83%)]\tLoss: 0.008827\n",
      "Train Epoch: 13 [51200/54000 (95%)]\tLoss: 0.000545\n",
      "\n",
      "Test set: Average loss: 0.0671, Accuracy: 5859/6000 (97.65%)\n",
      "\n",
      "Train Epoch: 14 [0/54000 (0%)]\tLoss: 0.001948\n",
      "Train Epoch: 14 [6400/54000 (12%)]\tLoss: 0.000973\n",
      "Train Epoch: 14 [12800/54000 (24%)]\tLoss: 0.000432\n",
      "Train Epoch: 14 [19200/54000 (36%)]\tLoss: 0.001049\n",
      "Train Epoch: 14 [25600/54000 (47%)]\tLoss: 0.000701\n",
      "Train Epoch: 14 [32000/54000 (59%)]\tLoss: 0.000356\n",
      "Train Epoch: 14 [38400/54000 (71%)]\tLoss: 0.001373\n",
      "Train Epoch: 14 [44800/54000 (83%)]\tLoss: 0.000303\n",
      "Train Epoch: 14 [51200/54000 (95%)]\tLoss: 0.001776\n",
      "\n",
      "Test set: Average loss: 0.0670, Accuracy: 5857/6000 (97.61666666666666%)\n",
      "\n",
      "\n",
      "Test set: Average loss: 0.0637, Accuracy: 9806/10000 (98.06%)\n",
      "\n"
     ]
    }
   ],
   "source": [
    "model = Net()\n",
    "optimizer = optim.Adadelta(model.parameters(), lr=1.0)\n",
    "history = run(model, trian_loader, val_loader, test_loader, optimizer, 14)"
   ]
  },
  {
   "cell_type": "code",
   "execution_count": 35,
   "metadata": {},
   "outputs": [
    {
     "data": {
      "image/png": "[encoded data removed]",
      "text/plain": [
       "<Figure size 864x288 with 2 Axes>"
      ]
     },
     "metadata": {
      "needs_background": "light"
     },
     "output_type": "display_data"
    }
   ],
   "source": [
    "fig, ax = plt.subplots(1, 2, figsize=(12, 4))\n",
    "ax[0].plot(history[0], label='train')\n",
    "ax[1].plot(history[1], label='val')\n",
    "ax[0].set_title('Train loss')\n",
    "ax[1].set_title('Val loss')\n",
    "ax[0].legend()\n",
    "ax[1].legend()\n",
    "ax[0].grid(True)\n",
    "ax[1].grid(True)"
   ]
  },
  {
   "cell_type": "code",
   "execution_count": null,
   "metadata": {},
   "outputs": [],
   "source": [
    "model = Net()\n",
    "model.load_state_dict(th.load('mnist.pt'))"
   ]
  },
  {
   "cell_type": "code",
   "execution_count": 45,
   "metadata": {},
   "outputs": [
    {
     "name": "stdout",
     "output_type": "stream",
     "text": [
      "\n",
      "Test set: Average loss: 0.0681, Accuracy: 9808/10000 (98.08%)\n",
      "\n"
     ]
    },
    {
     "data": {
      "text/plain": [
       "0.06812374950675294"
      ]
     },
     "execution_count": 45,
     "metadata": {},
     "output_type": "execute_result"
    }
   ],
   "source": [
    "test(model, test_loader, th.device('cuda'))"
   ]
  },
  {
   "cell_type": "code",
   "execution_count": 48,
   "metadata": {},
   "outputs": [],
   "source": [
    "pred_ys = model(th.stack([test_dataset[i][0] for i in range(len(test_dataset))]).to(th.device('cuda'))).argmax(dim=1).cpu().numpy()"
   ]
  },
  {
   "cell_type": "code",
   "execution_count": 49,
   "metadata": {},
   "outputs": [
    {
     "data": {
      "text/plain": [
       "(10000,)"
      ]
     },
     "execution_count": 49,
     "metadata": {},
     "output_type": "execute_result"
    }
   ],
   "source": [
    "pred_ys.shape"
   ]
  },
  {
   "cell_type": "code",
   "execution_count": 54,
   "metadata": {},
   "outputs": [
    {
     "data": {
      "text/plain": [
       "0.9824"
      ]
     },
     "execution_count": 54,
     "metadata": {},
     "output_type": "execute_result"
    }
   ],
   "source": [
    "(pred_ys == np.array([test_dataset[i][1] for i in range(len(test_dataset))])).sum() / len(test_dataset)"
   ]
  },
  {
   "cell_type": "code",
   "execution_count": 57,
   "metadata": {},
   "outputs": [
    {
     "data": {
      "image/png": "[encoded data removed]",
      "text/plain": [
       "<Figure size 432x288 with 1 Axes>"
      ]
     },
     "metadata": {
      "needs_background": "light"
     },
     "output_type": "display_data"
    }
   ],
   "source": [
    "plt.imshow(test_dataset[1010][0].squeeze(), cmap='gray')\n",
    "plt.title(f'Label: {pred_ys[1010]}')\n",
    "plt.show()"
   ]
  },
  {
   "attachments": {},
   "cell_type": "markdown",
   "metadata": {},
   "source": [
    "# Pytorch Lightning\n",
    "\n",
    "- Lightning은 Pytorch를 더 쉽게 사용할 수 있도록 도와주는 라이브러리입니다."
   ]
  },
  {
   "cell_type": "code",
   "execution_count": 1,
   "metadata": {},
   "outputs": [],
   "source": [
    "import torch as th\n",
    "from torch import nn\n",
    "from torch.nn import functional as F\n",
    "from torch.utils.data import DataLoader, random_split\n",
    "from torchmetrics import Accuracy\n",
    "from torchvision import transforms\n",
    "from torchvision.datasets import MNIST\n",
    "\n",
    "\n",
    "from pytorch_lightning import LightningModule, Trainer\n",
    "from pytorch_lightning.callbacks.progress.tqdm_progress import TQDMProgressBar\n",
    "from pytorch_lightning.loggers import TensorBoardLogger"
   ]
  },
  {
   "cell_type": "code",
   "execution_count": 4,
   "metadata": {},
   "outputs": [],
   "source": [
    "import os\n",
    "\n",
    "# find DATASET_PATH from environment variable, if not, use './data'\n",
    "DATASET_PATH = os.environ.get('DATASET_PATH', './data')\n",
    "BATCH_SIZE = 256 if th.cuda.is_available() else 64\n"
   ]
  },
  {
   "cell_type": "code",
   "execution_count": 9,
   "metadata": {},
   "outputs": [],
   "source": [
    "class LitMNISTModel(LightningModule):\n",
    "    def __init__(self, \n",
    "                 data_dir: str = DATASET_PATH, \n",
    "                 hidden_dim: int = 128, \n",
    "                 learning_rate: float = 2e-4):\n",
    "        \n",
    "        super().__init__()\n",
    "        self.hidden_dim = hidden_dim\n",
    "        self.num_classes = 10\n",
    "        self.learning_rate = learning_rate\n",
    "        \n",
    "        self.input_dims = (1, 28, 28)\n",
    "        self.transform = transforms.Compose([\n",
    "            transforms.ToTensor(),\n",
    "            transforms.Normalize((0.1307,), (0.3081,))\n",
    "        ])\n",
    "        \n",
    "        channels, width, height = self.input_dims\n",
    "        self.model = nn.Sequential(\n",
    "            nn.Flatten(),\n",
    "            nn.Linear(channels * width * height, hidden_dim),\n",
    "            nn.ReLU(),\n",
    "            nn.Dropout(0.1),\n",
    "            nn.Linear(hidden_dim, hidden_dim),\n",
    "            nn.ReLU(),\n",
    "            nn.Dropout(0.1),\n",
    "            nn.Linear(hidden_dim, self.num_classes),\n",
    "        )\n",
    "        \n",
    "        self.val_acc = Accuracy(task='multiclass',\n",
    "                                num_classes=self.num_classes)\n",
    "        self.test_acc = Accuracy(task='multiclass',\n",
    "                                 num_classes=self.num_classes)\n",
    "\n",
    "    def forward(self, x):\n",
    "        x = self.model(x)\n",
    "        out = F.log_softmax(x, dim=1)\n",
    "        return out\n",
    "\n",
    "    def training_step(self, batch, batch_idx):\n",
    "        x, y = batch\n",
    "        logits = self(x)\n",
    "        loss = F.nll_loss(logits, y)\n",
    "        self.log('train_loss', loss)\n",
    "        return loss\n",
    "\n",
    "    def validation_step(self, batch, batch_idx):\n",
    "        x, y = batch\n",
    "        logits = self(x)\n",
    "        loss = F.nll_loss(logits, y)\n",
    "        preds = th.argmax(logits, dim=1)\n",
    "        self.val_acc.update(preds, y)\n",
    "        \n",
    "        self.log('val_loss', loss, prog_bar=True)\n",
    "        self.log('val_acc', self.val_acc, prog_bar=True)\n",
    "\n",
    "    def test_step(self, batch, batch_idx):\n",
    "        x, y = batch\n",
    "        logits = self(x)\n",
    "        loss = F.nll_loss(logits, y)\n",
    "        preds = th.argmax(logits, dim=1)\n",
    "        self.test_acc.update(preds, y)\n",
    "        \n",
    "        self.log('test_loss', loss, prog_bar=True)\n",
    "        self.log('test_acc', self.test_acc, prog_bar=True)\n",
    "\n",
    "    def configure_optimizers(self):\n",
    "        optimizer = th.optim.Adam(self.parameters(), lr=self.learning_rate)\n",
    "        return optimizer\n",
    "\n",
    "    def prepare_data(self):\n",
    "        MNIST(DATASET_PATH, train=True, download=True)\n",
    "        MNIST(DATASET_PATH, train=False, download=True)\n",
    "\n",
    "    def setup(self, stage=None):\n",
    "        if stage == 'fit' or stage is None:\n",
    "            mnist_train = MNIST(DATASET_PATH, train=True, transform=self.transform)\n",
    "            self.mnist_train, self.mnist_val = random_split(mnist_train, [55000, 5000])\n",
    "            \n",
    "        if stage == 'test' or stage is None:\n",
    "            self.mnist_test = MNIST(DATASET_PATH, train=False, transform=self.transform)\n",
    "\n",
    "    def train_dataloader(self):\n",
    "        return DataLoader(self.mnist_train, batch_size=BATCH_SIZE, shuffle=True)\n",
    "\n",
    "    def val_dataloader(self):\n",
    "        return DataLoader(self.mnist_val, batch_size=BATCH_SIZE, shuffle=False)\n",
    "\n",
    "    def test_dataloader(self):\n",
    "        return DataLoader(self.mnist_test, batch_size=BATCH_SIZE, shuffle=False)"
   ]
  },
  {
   "cell_type": "code",
   "execution_count": 12,
   "metadata": {},
   "outputs": [
    {
     "name": "stderr",
     "output_type": "stream",
     "text": [
      "GPU available: True (cuda), used: True\n",
      "TPU available: False, using: 0 TPU cores\n",
      "IPU available: False, using: 0 IPUs\n",
      "HPU available: False, using: 0 HPUs\n",
      "LOCAL_RANK: 0 - CUDA_VISIBLE_DEVICES: [0,1,2,3]\n",
      "\n",
      "  | Name     | Type               | Params\n",
      "------------------------------------------------\n",
      "0 | model    | Sequential         | 269 K \n",
      "1 | val_acc  | MulticlassAccuracy | 0     \n",
      "2 | test_acc | MulticlassAccuracy | 0     \n",
      "------------------------------------------------\n",
      "269 K     Trainable params\n",
      "0         Non-trainable params\n",
      "269 K     Total params\n",
      "1.077     Total estimated model params size (MB)\n"
     ]
    },
    {
     "data": {
      "application/vnd.jupyter.widget-view+json": {
       "model_id": "eeb2fe2362724a98b2ff7e6eb19b88ec",
       "version_major": 2,
       "version_minor": 0
      },
      "text/plain": [
       "Sanity Checking: 0it [00:00, ?it/s]"
      ]
     },
     "metadata": {},
     "output_type": "display_data"
    },
    {
     "data": {
      "application/vnd.jupyter.widget-view+json": {
       "model_id": "57f46c21c4bb45569b6ca6eb2aeb677b",
       "version_major": 2,
       "version_minor": 0
      },
      "text/plain": [
       "Training: 0it [00:00, ?it/s]"
      ]
     },
     "metadata": {},
     "output_type": "display_data"
    },
    {
     "data": {
      "application/vnd.jupyter.widget-view+json": {
       "model_id": "dd42f88833144e23a7c5a912927a8582",
       "version_major": 2,
       "version_minor": 0
      },
      "text/plain": [
       "Validation: 0it [00:00, ?it/s]"
      ]
     },
     "metadata": {},
     "output_type": "display_data"
    },
    {
     "data": {
      "application/vnd.jupyter.widget-view+json": {
       "model_id": "4a67ce968eaf49b79039d78a08a40b8a",
       "version_major": 2,
       "version_minor": 0
      },
      "text/plain": [
       "Validation: 0it [00:00, ?it/s]"
      ]
     },
     "metadata": {},
     "output_type": "display_data"
    },
    {
     "data": {
      "application/vnd.jupyter.widget-view+json": {
       "model_id": "340cbd343dc94af6ae81c78fd207e504",
       "version_major": 2,
       "version_minor": 0
      },
      "text/plain": [
       "Validation: 0it [00:00, ?it/s]"
      ]
     },
     "metadata": {},
     "output_type": "display_data"
    },
    {
     "data": {
      "application/vnd.jupyter.widget-view+json": {
       "model_id": "a6c734c8369740ce85b33b100e0a2d85",
       "version_major": 2,
       "version_minor": 0
      },
      "text/plain": [
       "Validation: 0it [00:00, ?it/s]"
      ]
     },
     "metadata": {},
     "output_type": "display_data"
    },
    {
     "data": {
      "application/vnd.jupyter.widget-view+json": {
       "model_id": "2248490972e9485692a3eb9527325b7c",
       "version_major": 2,
       "version_minor": 0
      },
      "text/plain": [
       "Validation: 0it [00:00, ?it/s]"
      ]
     },
     "metadata": {},
     "output_type": "display_data"
    },
    {
     "name": "stderr",
     "output_type": "stream",
     "text": [
      "`Trainer.fit` stopped: `max_epochs=5` reached.\n"
     ]
    }
   ],
   "source": [
    "model = LitMNISTModel(hidden_dim=256, learning_rate=2e-4)\n",
    "\n",
    "trainer = Trainer(accelerator='auto',\n",
    "                  devices=1 if th.cuda.is_available() else None,\n",
    "                  max_epochs=5,\n",
    "                  callbacks=[TQDMProgressBar(refresh_rate=20)],\n",
    "                  logger=TensorBoardLogger('lightning_logs', name='mnist'))\n",
    "\n",
    "trainer.fit(model=model)"
   ]
  },
  {
   "cell_type": "code",
   "execution_count": 13,
   "metadata": {},
   "outputs": [
    {
     "name": "stderr",
     "output_type": "stream",
     "text": [
      "/home/user/anaconda3/envs/rl/lib/python3.8/site-packages/pytorch_lightning/trainer/connectors/checkpoint_connector.py:134: UserWarning: `.test(ckpt_path=None)` was called without a model. The best model of the previous `fit` call will be used. You can pass `.test(ckpt_path='best')` to use the best model or `.test(ckpt_path='last')` to use the last model. If you pass a value, this warning will be silenced.\n",
      "  rank_zero_warn(\n",
      "Restoring states from the checkpoint path at lightning_logs/mnist/version_1/checkpoints/epoch=4-step=1075.ckpt\n",
      "LOCAL_RANK: 0 - CUDA_VISIBLE_DEVICES: [0,1,2,3]\n",
      "Loaded model weights from checkpoint at lightning_logs/mnist/version_1/checkpoints/epoch=4-step=1075.ckpt\n",
      "/home/user/anaconda3/envs/rl/lib/python3.8/site-packages/pytorch_lightning/trainer/connectors/data_connector.py:224: PossibleUserWarning: The dataloader, test_dataloader 0, does not have many workers which may be a bottleneck. Consider increasing the value of the `num_workers` argument` (try 24 which is the number of cpus on this machine) in the `DataLoader` init to improve performance.\n",
      "  rank_zero_warn(\n"
     ]
    },
    {
     "data": {
      "application/vnd.jupyter.widget-view+json": {
       "model_id": "db13905b92024d549ee64688351fbbc6",
       "version_major": 2,
       "version_minor": 0
      },
      "text/plain": [
       "Testing: 0it [00:00, ?it/s]"
      ]
     },
     "metadata": {},
     "output_type": "display_data"
    },
    {
     "name": "stdout",
     "output_type": "stream",
     "text": [
      "────────────────────────────────────────────────────────────────────────────────────────────────────────────────────────\n",
      "       Test metric             DataLoader 0\n",
      "────────────────────────────────────────────────────────────────────────────────────────────────────────────────────────\n",
      "        test_acc            0.9639000296592712\n",
      "        test_loss           0.11687740683555603\n",
      "────────────────────────────────────────────────────────────────────────────────────────────────────────────────────────\n"
     ]
    },
    {
     "data": {
      "text/plain": [
       "[{'test_loss': 0.11687740683555603, 'test_acc': 0.9639000296592712}]"
      ]
     },
     "execution_count": 13,
     "metadata": {},
     "output_type": "execute_result"
    }
   ],
   "source": [
    "trainer.test()"
   ]
  },
  {
   "cell_type": "code",
   "execution_count": null,
   "metadata": {},
   "outputs": [],
   "source": []
  }
 ],
 "metadata": {
  "kernelspec": {
   "display_name": "Python 3.8.13 ('rl')",
   "language": "python",
   "name": "python3"
  },
  "language_info": {
   "codemirror_mode": {
    "name": "ipython",
    "version": 3
   },
   "file_extension": ".py",
   "mimetype": "text/x-python",
   "name": "python",
   "nbconvert_exporter": "python",
   "pygments_lexer": "ipython3",
   "version": "3.8.13"
  },
  "orig_nbformat": 4,
  "vscode": {
   "interpreter": {
    "hash": "8d4b6eed0dbf8490271aa61b77bc07d9341c843e87fbb95f8141dc5582899399"
   }
  }
 },
 "nbformat": 4,
 "nbformat_minor": 2
}
