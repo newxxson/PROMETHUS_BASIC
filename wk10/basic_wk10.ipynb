{
  "nbformat": 4,
  "nbformat_minor": 0,
  "metadata": {
    "colab": {
      "provenance": []
    },
    "kernelspec": {
      "name": "python3",
      "display_name": "Python 3"
    },
    "language_info": {
      "name": "python"
    },
    "accelerator": "GPU",
    "gpuClass": "standard",
    "widgets": {
      "application/vnd.jupyter.widget-state+json": {
        "8b9e4b73a7e94bbab89840ccb7b1d763": {
          "model_module": "@jupyter-widgets/controls",
          "model_name": "HBoxModel",
          "model_module_version": "1.5.0",
          "state": {
            "_dom_classes": [],
            "_model_module": "@jupyter-widgets/controls",
            "_model_module_version": "1.5.0",
            "_model_name": "HBoxModel",
            "_view_count": null,
            "_view_module": "@jupyter-widgets/controls",
            "_view_module_version": "1.5.0",
            "_view_name": "HBoxView",
            "box_style": "",
            "children": [
              "IPY_MODEL_449d8afee7ba4f17be8909534c3cf230",
              "IPY_MODEL_ba25042715ec48689973049f13273f80",
              "IPY_MODEL_fd6d8e33f58a4fecae1bcf9347b35f23"
            ],
            "layout": "IPY_MODEL_d8f87c6e3a1e4e3ebcab865d2cba61c9"
          }
        },
        "449d8afee7ba4f17be8909534c3cf230": {
          "model_module": "@jupyter-widgets/controls",
          "model_name": "HTMLModel",
          "model_module_version": "1.5.0",
          "state": {
            "_dom_classes": [],
            "_model_module": "@jupyter-widgets/controls",
            "_model_module_version": "1.5.0",
            "_model_name": "HTMLModel",
            "_view_count": null,
            "_view_module": "@jupyter-widgets/controls",
            "_view_module_version": "1.5.0",
            "_view_name": "HTMLView",
            "description": "",
            "description_tooltip": null,
            "layout": "IPY_MODEL_5a5b14b6f00f4bb88578b8bcadf6c938",
            "placeholder": "​",
            "style": "IPY_MODEL_439612e8458c415896e3e37c16327e31",
            "value": "100%"
          }
        },
        "ba25042715ec48689973049f13273f80": {
          "model_module": "@jupyter-widgets/controls",
          "model_name": "FloatProgressModel",
          "model_module_version": "1.5.0",
          "state": {
            "_dom_classes": [],
            "_model_module": "@jupyter-widgets/controls",
            "_model_module_version": "1.5.0",
            "_model_name": "FloatProgressModel",
            "_view_count": null,
            "_view_module": "@jupyter-widgets/controls",
            "_view_module_version": "1.5.0",
            "_view_name": "ProgressView",
            "bar_style": "success",
            "description": "",
            "description_tooltip": null,
            "layout": "IPY_MODEL_279520ed89b148ef93b367af77d97907",
            "max": 9912422,
            "min": 0,
            "orientation": "horizontal",
            "style": "IPY_MODEL_93589f3bb02d4fb2905077af8740cd7f",
            "value": 9912422
          }
        },
        "fd6d8e33f58a4fecae1bcf9347b35f23": {
          "model_module": "@jupyter-widgets/controls",
          "model_name": "HTMLModel",
          "model_module_version": "1.5.0",
          "state": {
            "_dom_classes": [],
            "_model_module": "@jupyter-widgets/controls",
            "_model_module_version": "1.5.0",
            "_model_name": "HTMLModel",
            "_view_count": null,
            "_view_module": "@jupyter-widgets/controls",
            "_view_module_version": "1.5.0",
            "_view_name": "HTMLView",
            "description": "",
            "description_tooltip": null,
            "layout": "IPY_MODEL_8e5e9a983aa546a19e2e9e2d9a39393e",
            "placeholder": "​",
            "style": "IPY_MODEL_51740fa0da744785954e76e21de9b221",
            "value": " 9912422/9912422 [00:00&lt;00:00, 45315116.86it/s]"
          }
        },
        "d8f87c6e3a1e4e3ebcab865d2cba61c9": {
          "model_module": "@jupyter-widgets/base",
          "model_name": "LayoutModel",
          "model_module_version": "1.2.0",
          "state": {
            "_model_module": "@jupyter-widgets/base",
            "_model_module_version": "1.2.0",
            "_model_name": "LayoutModel",
            "_view_count": null,
            "_view_module": "@jupyter-widgets/base",
            "_view_module_version": "1.2.0",
            "_view_name": "LayoutView",
            "align_content": null,
            "align_items": null,
            "align_self": null,
            "border": null,
            "bottom": null,
            "display": null,
            "flex": null,
            "flex_flow": null,
            "grid_area": null,
            "grid_auto_columns": null,
            "grid_auto_flow": null,
            "grid_auto_rows": null,
            "grid_column": null,
            "grid_gap": null,
            "grid_row": null,
            "grid_template_areas": null,
            "grid_template_columns": null,
            "grid_template_rows": null,
            "height": null,
            "justify_content": null,
            "justify_items": null,
            "left": null,
            "margin": null,
            "max_height": null,
            "max_width": null,
            "min_height": null,
            "min_width": null,
            "object_fit": null,
            "object_position": null,
            "order": null,
            "overflow": null,
            "overflow_x": null,
            "overflow_y": null,
            "padding": null,
            "right": null,
            "top": null,
            "visibility": null,
            "width": null
          }
        },
        "5a5b14b6f00f4bb88578b8bcadf6c938": {
          "model_module": "@jupyter-widgets/base",
          "model_name": "LayoutModel",
          "model_module_version": "1.2.0",
          "state": {
            "_model_module": "@jupyter-widgets/base",
            "_model_module_version": "1.2.0",
            "_model_name": "LayoutModel",
            "_view_count": null,
            "_view_module": "@jupyter-widgets/base",
            "_view_module_version": "1.2.0",
            "_view_name": "LayoutView",
            "align_content": null,
            "align_items": null,
            "align_self": null,
            "border": null,
            "bottom": null,
            "display": null,
            "flex": null,
            "flex_flow": null,
            "grid_area": null,
            "grid_auto_columns": null,
            "grid_auto_flow": null,
            "grid_auto_rows": null,
            "grid_column": null,
            "grid_gap": null,
            "grid_row": null,
            "grid_template_areas": null,
            "grid_template_columns": null,
            "grid_template_rows": null,
            "height": null,
            "justify_content": null,
            "justify_items": null,
            "left": null,
            "margin": null,
            "max_height": null,
            "max_width": null,
            "min_height": null,
            "min_width": null,
            "object_fit": null,
            "object_position": null,
            "order": null,
            "overflow": null,
            "overflow_x": null,
            "overflow_y": null,
            "padding": null,
            "right": null,
            "top": null,
            "visibility": null,
            "width": null
          }
        },
        "439612e8458c415896e3e37c16327e31": {
          "model_module": "@jupyter-widgets/controls",
          "model_name": "DescriptionStyleModel",
          "model_module_version": "1.5.0",
          "state": {
            "_model_module": "@jupyter-widgets/controls",
            "_model_module_version": "1.5.0",
            "_model_name": "DescriptionStyleModel",
            "_view_count": null,
            "_view_module": "@jupyter-widgets/base",
            "_view_module_version": "1.2.0",
            "_view_name": "StyleView",
            "description_width": ""
          }
        },
        "279520ed89b148ef93b367af77d97907": {
          "model_module": "@jupyter-widgets/base",
          "model_name": "LayoutModel",
          "model_module_version": "1.2.0",
          "state": {
            "_model_module": "@jupyter-widgets/base",
            "_model_module_version": "1.2.0",
            "_model_name": "LayoutModel",
            "_view_count": null,
            "_view_module": "@jupyter-widgets/base",
            "_view_module_version": "1.2.0",
            "_view_name": "LayoutView",
            "align_content": null,
            "align_items": null,
            "align_self": null,
            "border": null,
            "bottom": null,
            "display": null,
            "flex": null,
            "flex_flow": null,
            "grid_area": null,
            "grid_auto_columns": null,
            "grid_auto_flow": null,
            "grid_auto_rows": null,
            "grid_column": null,
            "grid_gap": null,
            "grid_row": null,
            "grid_template_areas": null,
            "grid_template_columns": null,
            "grid_template_rows": null,
            "height": null,
            "justify_content": null,
            "justify_items": null,
            "left": null,
            "margin": null,
            "max_height": null,
            "max_width": null,
            "min_height": null,
            "min_width": null,
            "object_fit": null,
            "object_position": null,
            "order": null,
            "overflow": null,
            "overflow_x": null,
            "overflow_y": null,
            "padding": null,
            "right": null,
            "top": null,
            "visibility": null,
            "width": null
          }
        },
        "93589f3bb02d4fb2905077af8740cd7f": {
          "model_module": "@jupyter-widgets/controls",
          "model_name": "ProgressStyleModel",
          "model_module_version": "1.5.0",
          "state": {
            "_model_module": "@jupyter-widgets/controls",
            "_model_module_version": "1.5.0",
            "_model_name": "ProgressStyleModel",
            "_view_count": null,
            "_view_module": "@jupyter-widgets/base",
            "_view_module_version": "1.2.0",
            "_view_name": "StyleView",
            "bar_color": null,
            "description_width": ""
          }
        },
        "8e5e9a983aa546a19e2e9e2d9a39393e": {
          "model_module": "@jupyter-widgets/base",
          "model_name": "LayoutModel",
          "model_module_version": "1.2.0",
          "state": {
            "_model_module": "@jupyter-widgets/base",
            "_model_module_version": "1.2.0",
            "_model_name": "LayoutModel",
            "_view_count": null,
            "_view_module": "@jupyter-widgets/base",
            "_view_module_version": "1.2.0",
            "_view_name": "LayoutView",
            "align_content": null,
            "align_items": null,
            "align_self": null,
            "border": null,
            "bottom": null,
            "display": null,
            "flex": null,
            "flex_flow": null,
            "grid_area": null,
            "grid_auto_columns": null,
            "grid_auto_flow": null,
            "grid_auto_rows": null,
            "grid_column": null,
            "grid_gap": null,
            "grid_row": null,
            "grid_template_areas": null,
            "grid_template_columns": null,
            "grid_template_rows": null,
            "height": null,
            "justify_content": null,
            "justify_items": null,
            "left": null,
            "margin": null,
            "max_height": null,
            "max_width": null,
            "min_height": null,
            "min_width": null,
            "object_fit": null,
            "object_position": null,
            "order": null,
            "overflow": null,
            "overflow_x": null,
            "overflow_y": null,
            "padding": null,
            "right": null,
            "top": null,
            "visibility": null,
            "width": null
          }
        },
        "51740fa0da744785954e76e21de9b221": {
          "model_module": "@jupyter-widgets/controls",
          "model_name": "DescriptionStyleModel",
          "model_module_version": "1.5.0",
          "state": {
            "_model_module": "@jupyter-widgets/controls",
            "_model_module_version": "1.5.0",
            "_model_name": "DescriptionStyleModel",
            "_view_count": null,
            "_view_module": "@jupyter-widgets/base",
            "_view_module_version": "1.2.0",
            "_view_name": "StyleView",
            "description_width": ""
          }
        },
        "7fb3e40f65f24780a1ad58ca423c9d00": {
          "model_module": "@jupyter-widgets/controls",
          "model_name": "HBoxModel",
          "model_module_version": "1.5.0",
          "state": {
            "_dom_classes": [],
            "_model_module": "@jupyter-widgets/controls",
            "_model_module_version": "1.5.0",
            "_model_name": "HBoxModel",
            "_view_count": null,
            "_view_module": "@jupyter-widgets/controls",
            "_view_module_version": "1.5.0",
            "_view_name": "HBoxView",
            "box_style": "",
            "children": [
              "IPY_MODEL_7adef169c0164d8287b3cd5c28ab4477",
              "IPY_MODEL_d86ccdddb80b44369c6fc4adc8fd22b9",
              "IPY_MODEL_c8d8ae9e5bcf48dea1db57bb50e0e820"
            ],
            "layout": "IPY_MODEL_cc5b6cf22ace43e99044b2722287d176"
          }
        },
        "7adef169c0164d8287b3cd5c28ab4477": {
          "model_module": "@jupyter-widgets/controls",
          "model_name": "HTMLModel",
          "model_module_version": "1.5.0",
          "state": {
            "_dom_classes": [],
            "_model_module": "@jupyter-widgets/controls",
            "_model_module_version": "1.5.0",
            "_model_name": "HTMLModel",
            "_view_count": null,
            "_view_module": "@jupyter-widgets/controls",
            "_view_module_version": "1.5.0",
            "_view_name": "HTMLView",
            "description": "",
            "description_tooltip": null,
            "layout": "IPY_MODEL_28a1327e7a5740d5bad8a53ed7f6b9f5",
            "placeholder": "​",
            "style": "IPY_MODEL_c886d5e572fb48639ef8f4aed0ea31ee",
            "value": "100%"
          }
        },
        "d86ccdddb80b44369c6fc4adc8fd22b9": {
          "model_module": "@jupyter-widgets/controls",
          "model_name": "FloatProgressModel",
          "model_module_version": "1.5.0",
          "state": {
            "_dom_classes": [],
            "_model_module": "@jupyter-widgets/controls",
            "_model_module_version": "1.5.0",
            "_model_name": "FloatProgressModel",
            "_view_count": null,
            "_view_module": "@jupyter-widgets/controls",
            "_view_module_version": "1.5.0",
            "_view_name": "ProgressView",
            "bar_style": "success",
            "description": "",
            "description_tooltip": null,
            "layout": "IPY_MODEL_daf40586a7a04286ac3e391749d9ab85",
            "max": 28881,
            "min": 0,
            "orientation": "horizontal",
            "style": "IPY_MODEL_db2037239bcd48b18e0c8cbf74f6c7af",
            "value": 28881
          }
        },
        "c8d8ae9e5bcf48dea1db57bb50e0e820": {
          "model_module": "@jupyter-widgets/controls",
          "model_name": "HTMLModel",
          "model_module_version": "1.5.0",
          "state": {
            "_dom_classes": [],
            "_model_module": "@jupyter-widgets/controls",
            "_model_module_version": "1.5.0",
            "_model_name": "HTMLModel",
            "_view_count": null,
            "_view_module": "@jupyter-widgets/controls",
            "_view_module_version": "1.5.0",
            "_view_name": "HTMLView",
            "description": "",
            "description_tooltip": null,
            "layout": "IPY_MODEL_1f7f181fa6a34672af5d38fe7ee81ef4",
            "placeholder": "​",
            "style": "IPY_MODEL_876f6925fa6a4cc885b008bad2ede9ed",
            "value": " 28881/28881 [00:00&lt;00:00, 438886.31it/s]"
          }
        },
        "cc5b6cf22ace43e99044b2722287d176": {
          "model_module": "@jupyter-widgets/base",
          "model_name": "LayoutModel",
          "model_module_version": "1.2.0",
          "state": {
            "_model_module": "@jupyter-widgets/base",
            "_model_module_version": "1.2.0",
            "_model_name": "LayoutModel",
            "_view_count": null,
            "_view_module": "@jupyter-widgets/base",
            "_view_module_version": "1.2.0",
            "_view_name": "LayoutView",
            "align_content": null,
            "align_items": null,
            "align_self": null,
            "border": null,
            "bottom": null,
            "display": null,
            "flex": null,
            "flex_flow": null,
            "grid_area": null,
            "grid_auto_columns": null,
            "grid_auto_flow": null,
            "grid_auto_rows": null,
            "grid_column": null,
            "grid_gap": null,
            "grid_row": null,
            "grid_template_areas": null,
            "grid_template_columns": null,
            "grid_template_rows": null,
            "height": null,
            "justify_content": null,
            "justify_items": null,
            "left": null,
            "margin": null,
            "max_height": null,
            "max_width": null,
            "min_height": null,
            "min_width": null,
            "object_fit": null,
            "object_position": null,
            "order": null,
            "overflow": null,
            "overflow_x": null,
            "overflow_y": null,
            "padding": null,
            "right": null,
            "top": null,
            "visibility": null,
            "width": null
          }
        },
        "28a1327e7a5740d5bad8a53ed7f6b9f5": {
          "model_module": "@jupyter-widgets/base",
          "model_name": "LayoutModel",
          "model_module_version": "1.2.0",
          "state": {
            "_model_module": "@jupyter-widgets/base",
            "_model_module_version": "1.2.0",
            "_model_name": "LayoutModel",
            "_view_count": null,
            "_view_module": "@jupyter-widgets/base",
            "_view_module_version": "1.2.0",
            "_view_name": "LayoutView",
            "align_content": null,
            "align_items": null,
            "align_self": null,
            "border": null,
            "bottom": null,
            "display": null,
            "flex": null,
            "flex_flow": null,
            "grid_area": null,
            "grid_auto_columns": null,
            "grid_auto_flow": null,
            "grid_auto_rows": null,
            "grid_column": null,
            "grid_gap": null,
            "grid_row": null,
            "grid_template_areas": null,
            "grid_template_columns": null,
            "grid_template_rows": null,
            "height": null,
            "justify_content": null,
            "justify_items": null,
            "left": null,
            "margin": null,
            "max_height": null,
            "max_width": null,
            "min_height": null,
            "min_width": null,
            "object_fit": null,
            "object_position": null,
            "order": null,
            "overflow": null,
            "overflow_x": null,
            "overflow_y": null,
            "padding": null,
            "right": null,
            "top": null,
            "visibility": null,
            "width": null
          }
        },
        "c886d5e572fb48639ef8f4aed0ea31ee": {
          "model_module": "@jupyter-widgets/controls",
          "model_name": "DescriptionStyleModel",
          "model_module_version": "1.5.0",
          "state": {
            "_model_module": "@jupyter-widgets/controls",
            "_model_module_version": "1.5.0",
            "_model_name": "DescriptionStyleModel",
            "_view_count": null,
            "_view_module": "@jupyter-widgets/base",
            "_view_module_version": "1.2.0",
            "_view_name": "StyleView",
            "description_width": ""
          }
        },
        "daf40586a7a04286ac3e391749d9ab85": {
          "model_module": "@jupyter-widgets/base",
          "model_name": "LayoutModel",
          "model_module_version": "1.2.0",
          "state": {
            "_model_module": "@jupyter-widgets/base",
            "_model_module_version": "1.2.0",
            "_model_name": "LayoutModel",
            "_view_count": null,
            "_view_module": "@jupyter-widgets/base",
            "_view_module_version": "1.2.0",
            "_view_name": "LayoutView",
            "align_content": null,
            "align_items": null,
            "align_self": null,
            "border": null,
            "bottom": null,
            "display": null,
            "flex": null,
            "flex_flow": null,
            "grid_area": null,
            "grid_auto_columns": null,
            "grid_auto_flow": null,
            "grid_auto_rows": null,
            "grid_column": null,
            "grid_gap": null,
            "grid_row": null,
            "grid_template_areas": null,
            "grid_template_columns": null,
            "grid_template_rows": null,
            "height": null,
            "justify_content": null,
            "justify_items": null,
            "left": null,
            "margin": null,
            "max_height": null,
            "max_width": null,
            "min_height": null,
            "min_width": null,
            "object_fit": null,
            "object_position": null,
            "order": null,
            "overflow": null,
            "overflow_x": null,
            "overflow_y": null,
            "padding": null,
            "right": null,
            "top": null,
            "visibility": null,
            "width": null
          }
        },
        "db2037239bcd48b18e0c8cbf74f6c7af": {
          "model_module": "@jupyter-widgets/controls",
          "model_name": "ProgressStyleModel",
          "model_module_version": "1.5.0",
          "state": {
            "_model_module": "@jupyter-widgets/controls",
            "_model_module_version": "1.5.0",
            "_model_name": "ProgressStyleModel",
            "_view_count": null,
            "_view_module": "@jupyter-widgets/base",
            "_view_module_version": "1.2.0",
            "_view_name": "StyleView",
            "bar_color": null,
            "description_width": ""
          }
        },
        "1f7f181fa6a34672af5d38fe7ee81ef4": {
          "model_module": "@jupyter-widgets/base",
          "model_name": "LayoutModel",
          "model_module_version": "1.2.0",
          "state": {
            "_model_module": "@jupyter-widgets/base",
            "_model_module_version": "1.2.0",
            "_model_name": "LayoutModel",
            "_view_count": null,
            "_view_module": "@jupyter-widgets/base",
            "_view_module_version": "1.2.0",
            "_view_name": "LayoutView",
            "align_content": null,
            "align_items": null,
            "align_self": null,
            "border": null,
            "bottom": null,
            "display": null,
            "flex": null,
            "flex_flow": null,
            "grid_area": null,
            "grid_auto_columns": null,
            "grid_auto_flow": null,
            "grid_auto_rows": null,
            "grid_column": null,
            "grid_gap": null,
            "grid_row": null,
            "grid_template_areas": null,
            "grid_template_columns": null,
            "grid_template_rows": null,
            "height": null,
            "justify_content": null,
            "justify_items": null,
            "left": null,
            "margin": null,
            "max_height": null,
            "max_width": null,
            "min_height": null,
            "min_width": null,
            "object_fit": null,
            "object_position": null,
            "order": null,
            "overflow": null,
            "overflow_x": null,
            "overflow_y": null,
            "padding": null,
            "right": null,
            "top": null,
            "visibility": null,
            "width": null
          }
        },
        "876f6925fa6a4cc885b008bad2ede9ed": {
          "model_module": "@jupyter-widgets/controls",
          "model_name": "DescriptionStyleModel",
          "model_module_version": "1.5.0",
          "state": {
            "_model_module": "@jupyter-widgets/controls",
            "_model_module_version": "1.5.0",
            "_model_name": "DescriptionStyleModel",
            "_view_count": null,
            "_view_module": "@jupyter-widgets/base",
            "_view_module_version": "1.2.0",
            "_view_name": "StyleView",
            "description_width": ""
          }
        },
        "2355ae2d907a42c6ae89999cd0413b36": {
          "model_module": "@jupyter-widgets/controls",
          "model_name": "HBoxModel",
          "model_module_version": "1.5.0",
          "state": {
            "_dom_classes": [],
            "_model_module": "@jupyter-widgets/controls",
            "_model_module_version": "1.5.0",
            "_model_name": "HBoxModel",
            "_view_count": null,
            "_view_module": "@jupyter-widgets/controls",
            "_view_module_version": "1.5.0",
            "_view_name": "HBoxView",
            "box_style": "",
            "children": [
              "IPY_MODEL_008c5ae0880346408a0e14135b9c8d65",
              "IPY_MODEL_7fa9166d1678434082f21dc25c49c470",
              "IPY_MODEL_146e5c3a3954433d88857cf3ab7e17d5"
            ],
            "layout": "IPY_MODEL_581a1fd06fbc4d9ba65c05f2f7c93f5e"
          }
        },
        "008c5ae0880346408a0e14135b9c8d65": {
          "model_module": "@jupyter-widgets/controls",
          "model_name": "HTMLModel",
          "model_module_version": "1.5.0",
          "state": {
            "_dom_classes": [],
            "_model_module": "@jupyter-widgets/controls",
            "_model_module_version": "1.5.0",
            "_model_name": "HTMLModel",
            "_view_count": null,
            "_view_module": "@jupyter-widgets/controls",
            "_view_module_version": "1.5.0",
            "_view_name": "HTMLView",
            "description": "",
            "description_tooltip": null,
            "layout": "IPY_MODEL_f5721f6d176e466b99eaaca02147bbad",
            "placeholder": "​",
            "style": "IPY_MODEL_3802b6cf285b4ebfbd6515c27285d18d",
            "value": "100%"
          }
        },
        "7fa9166d1678434082f21dc25c49c470": {
          "model_module": "@jupyter-widgets/controls",
          "model_name": "FloatProgressModel",
          "model_module_version": "1.5.0",
          "state": {
            "_dom_classes": [],
            "_model_module": "@jupyter-widgets/controls",
            "_model_module_version": "1.5.0",
            "_model_name": "FloatProgressModel",
            "_view_count": null,
            "_view_module": "@jupyter-widgets/controls",
            "_view_module_version": "1.5.0",
            "_view_name": "ProgressView",
            "bar_style": "success",
            "description": "",
            "description_tooltip": null,
            "layout": "IPY_MODEL_992e0642ed09460c86e23130fca46e92",
            "max": 1648877,
            "min": 0,
            "orientation": "horizontal",
            "style": "IPY_MODEL_4f8d2be5d761475bb085a93a73a09838",
            "value": 1648877
          }
        },
        "146e5c3a3954433d88857cf3ab7e17d5": {
          "model_module": "@jupyter-widgets/controls",
          "model_name": "HTMLModel",
          "model_module_version": "1.5.0",
          "state": {
            "_dom_classes": [],
            "_model_module": "@jupyter-widgets/controls",
            "_model_module_version": "1.5.0",
            "_model_name": "HTMLModel",
            "_view_count": null,
            "_view_module": "@jupyter-widgets/controls",
            "_view_module_version": "1.5.0",
            "_view_name": "HTMLView",
            "description": "",
            "description_tooltip": null,
            "layout": "IPY_MODEL_1294d61f84834c9b96d1ea371a6692ee",
            "placeholder": "​",
            "style": "IPY_MODEL_71887d594e384e8da344a5ca13d2ff66",
            "value": " 1648877/1648877 [00:00&lt;00:00, 2236280.97it/s]"
          }
        },
        "581a1fd06fbc4d9ba65c05f2f7c93f5e": {
          "model_module": "@jupyter-widgets/base",
          "model_name": "LayoutModel",
          "model_module_version": "1.2.0",
          "state": {
            "_model_module": "@jupyter-widgets/base",
            "_model_module_version": "1.2.0",
            "_model_name": "LayoutModel",
            "_view_count": null,
            "_view_module": "@jupyter-widgets/base",
            "_view_module_version": "1.2.0",
            "_view_name": "LayoutView",
            "align_content": null,
            "align_items": null,
            "align_self": null,
            "border": null,
            "bottom": null,
            "display": null,
            "flex": null,
            "flex_flow": null,
            "grid_area": null,
            "grid_auto_columns": null,
            "grid_auto_flow": null,
            "grid_auto_rows": null,
            "grid_column": null,
            "grid_gap": null,
            "grid_row": null,
            "grid_template_areas": null,
            "grid_template_columns": null,
            "grid_template_rows": null,
            "height": null,
            "justify_content": null,
            "justify_items": null,
            "left": null,
            "margin": null,
            "max_height": null,
            "max_width": null,
            "min_height": null,
            "min_width": null,
            "object_fit": null,
            "object_position": null,
            "order": null,
            "overflow": null,
            "overflow_x": null,
            "overflow_y": null,
            "padding": null,
            "right": null,
            "top": null,
            "visibility": null,
            "width": null
          }
        },
        "f5721f6d176e466b99eaaca02147bbad": {
          "model_module": "@jupyter-widgets/base",
          "model_name": "LayoutModel",
          "model_module_version": "1.2.0",
          "state": {
            "_model_module": "@jupyter-widgets/base",
            "_model_module_version": "1.2.0",
            "_model_name": "LayoutModel",
            "_view_count": null,
            "_view_module": "@jupyter-widgets/base",
            "_view_module_version": "1.2.0",
            "_view_name": "LayoutView",
            "align_content": null,
            "align_items": null,
            "align_self": null,
            "border": null,
            "bottom": null,
            "display": null,
            "flex": null,
            "flex_flow": null,
            "grid_area": null,
            "grid_auto_columns": null,
            "grid_auto_flow": null,
            "grid_auto_rows": null,
            "grid_column": null,
            "grid_gap": null,
            "grid_row": null,
            "grid_template_areas": null,
            "grid_template_columns": null,
            "grid_template_rows": null,
            "height": null,
            "justify_content": null,
            "justify_items": null,
            "left": null,
            "margin": null,
            "max_height": null,
            "max_width": null,
            "min_height": null,
            "min_width": null,
            "object_fit": null,
            "object_position": null,
            "order": null,
            "overflow": null,
            "overflow_x": null,
            "overflow_y": null,
            "padding": null,
            "right": null,
            "top": null,
            "visibility": null,
            "width": null
          }
        },
        "3802b6cf285b4ebfbd6515c27285d18d": {
          "model_module": "@jupyter-widgets/controls",
          "model_name": "DescriptionStyleModel",
          "model_module_version": "1.5.0",
          "state": {
            "_model_module": "@jupyter-widgets/controls",
            "_model_module_version": "1.5.0",
            "_model_name": "DescriptionStyleModel",
            "_view_count": null,
            "_view_module": "@jupyter-widgets/base",
            "_view_module_version": "1.2.0",
            "_view_name": "StyleView",
            "description_width": ""
          }
        },
        "992e0642ed09460c86e23130fca46e92": {
          "model_module": "@jupyter-widgets/base",
          "model_name": "LayoutModel",
          "model_module_version": "1.2.0",
          "state": {
            "_model_module": "@jupyter-widgets/base",
            "_model_module_version": "1.2.0",
            "_model_name": "LayoutModel",
            "_view_count": null,
            "_view_module": "@jupyter-widgets/base",
            "_view_module_version": "1.2.0",
            "_view_name": "LayoutView",
            "align_content": null,
            "align_items": null,
            "align_self": null,
            "border": null,
            "bottom": null,
            "display": null,
            "flex": null,
            "flex_flow": null,
            "grid_area": null,
            "grid_auto_columns": null,
            "grid_auto_flow": null,
            "grid_auto_rows": null,
            "grid_column": null,
            "grid_gap": null,
            "grid_row": null,
            "grid_template_areas": null,
            "grid_template_columns": null,
            "grid_template_rows": null,
            "height": null,
            "justify_content": null,
            "justify_items": null,
            "left": null,
            "margin": null,
            "max_height": null,
            "max_width": null,
            "min_height": null,
            "min_width": null,
            "object_fit": null,
            "object_position": null,
            "order": null,
            "overflow": null,
            "overflow_x": null,
            "overflow_y": null,
            "padding": null,
            "right": null,
            "top": null,
            "visibility": null,
            "width": null
          }
        },
        "4f8d2be5d761475bb085a93a73a09838": {
          "model_module": "@jupyter-widgets/controls",
          "model_name": "ProgressStyleModel",
          "model_module_version": "1.5.0",
          "state": {
            "_model_module": "@jupyter-widgets/controls",
            "_model_module_version": "1.5.0",
            "_model_name": "ProgressStyleModel",
            "_view_count": null,
            "_view_module": "@jupyter-widgets/base",
            "_view_module_version": "1.2.0",
            "_view_name": "StyleView",
            "bar_color": null,
            "description_width": ""
          }
        },
        "1294d61f84834c9b96d1ea371a6692ee": {
          "model_module": "@jupyter-widgets/base",
          "model_name": "LayoutModel",
          "model_module_version": "1.2.0",
          "state": {
            "_model_module": "@jupyter-widgets/base",
            "_model_module_version": "1.2.0",
            "_model_name": "LayoutModel",
            "_view_count": null,
            "_view_module": "@jupyter-widgets/base",
            "_view_module_version": "1.2.0",
            "_view_name": "LayoutView",
            "align_content": null,
            "align_items": null,
            "align_self": null,
            "border": null,
            "bottom": null,
            "display": null,
            "flex": null,
            "flex_flow": null,
            "grid_area": null,
            "grid_auto_columns": null,
            "grid_auto_flow": null,
            "grid_auto_rows": null,
            "grid_column": null,
            "grid_gap": null,
            "grid_row": null,
            "grid_template_areas": null,
            "grid_template_columns": null,
            "grid_template_rows": null,
            "height": null,
            "justify_content": null,
            "justify_items": null,
            "left": null,
            "margin": null,
            "max_height": null,
            "max_width": null,
            "min_height": null,
            "min_width": null,
            "object_fit": null,
            "object_position": null,
            "order": null,
            "overflow": null,
            "overflow_x": null,
            "overflow_y": null,
            "padding": null,
            "right": null,
            "top": null,
            "visibility": null,
            "width": null
          }
        },
        "71887d594e384e8da344a5ca13d2ff66": {
          "model_module": "@jupyter-widgets/controls",
          "model_name": "DescriptionStyleModel",
          "model_module_version": "1.5.0",
          "state": {
            "_model_module": "@jupyter-widgets/controls",
            "_model_module_version": "1.5.0",
            "_model_name": "DescriptionStyleModel",
            "_view_count": null,
            "_view_module": "@jupyter-widgets/base",
            "_view_module_version": "1.2.0",
            "_view_name": "StyleView",
            "description_width": ""
          }
        },
        "cc7888a2beca404d843eb0a7470d3d3a": {
          "model_module": "@jupyter-widgets/controls",
          "model_name": "HBoxModel",
          "model_module_version": "1.5.0",
          "state": {
            "_dom_classes": [],
            "_model_module": "@jupyter-widgets/controls",
            "_model_module_version": "1.5.0",
            "_model_name": "HBoxModel",
            "_view_count": null,
            "_view_module": "@jupyter-widgets/controls",
            "_view_module_version": "1.5.0",
            "_view_name": "HBoxView",
            "box_style": "",
            "children": [
              "IPY_MODEL_215ec4b3737e48d6aaa3798c1dd49965",
              "IPY_MODEL_809abaee8ea94de4a8db1728aa2624d0",
              "IPY_MODEL_7ff0ed90ee494dc9a348c0659661f12d"
            ],
            "layout": "IPY_MODEL_b7747de0405545758842ccb4c19b3beb"
          }
        },
        "215ec4b3737e48d6aaa3798c1dd49965": {
          "model_module": "@jupyter-widgets/controls",
          "model_name": "HTMLModel",
          "model_module_version": "1.5.0",
          "state": {
            "_dom_classes": [],
            "_model_module": "@jupyter-widgets/controls",
            "_model_module_version": "1.5.0",
            "_model_name": "HTMLModel",
            "_view_count": null,
            "_view_module": "@jupyter-widgets/controls",
            "_view_module_version": "1.5.0",
            "_view_name": "HTMLView",
            "description": "",
            "description_tooltip": null,
            "layout": "IPY_MODEL_8f1a01a709984e409c9366be17a83ef2",
            "placeholder": "​",
            "style": "IPY_MODEL_82c5a8fe88894b14a0e39890a03fed8f",
            "value": "100%"
          }
        },
        "809abaee8ea94de4a8db1728aa2624d0": {
          "model_module": "@jupyter-widgets/controls",
          "model_name": "FloatProgressModel",
          "model_module_version": "1.5.0",
          "state": {
            "_dom_classes": [],
            "_model_module": "@jupyter-widgets/controls",
            "_model_module_version": "1.5.0",
            "_model_name": "FloatProgressModel",
            "_view_count": null,
            "_view_module": "@jupyter-widgets/controls",
            "_view_module_version": "1.5.0",
            "_view_name": "ProgressView",
            "bar_style": "success",
            "description": "",
            "description_tooltip": null,
            "layout": "IPY_MODEL_c1a5ab65efa64e4ba1bf8d251b3db2cc",
            "max": 4542,
            "min": 0,
            "orientation": "horizontal",
            "style": "IPY_MODEL_30c7cc205e1e41bdb1ec6bd818ec11b9",
            "value": 4542
          }
        },
        "7ff0ed90ee494dc9a348c0659661f12d": {
          "model_module": "@jupyter-widgets/controls",
          "model_name": "HTMLModel",
          "model_module_version": "1.5.0",
          "state": {
            "_dom_classes": [],
            "_model_module": "@jupyter-widgets/controls",
            "_model_module_version": "1.5.0",
            "_model_name": "HTMLModel",
            "_view_count": null,
            "_view_module": "@jupyter-widgets/controls",
            "_view_module_version": "1.5.0",
            "_view_name": "HTMLView",
            "description": "",
            "description_tooltip": null,
            "layout": "IPY_MODEL_af59cd04c0744bca9b6a32831814d23f",
            "placeholder": "​",
            "style": "IPY_MODEL_1df906e09cb646be8efc0c773784f1ca",
            "value": " 4542/4542 [00:00&lt;00:00, 145356.20it/s]"
          }
        },
        "b7747de0405545758842ccb4c19b3beb": {
          "model_module": "@jupyter-widgets/base",
          "model_name": "LayoutModel",
          "model_module_version": "1.2.0",
          "state": {
            "_model_module": "@jupyter-widgets/base",
            "_model_module_version": "1.2.0",
            "_model_name": "LayoutModel",
            "_view_count": null,
            "_view_module": "@jupyter-widgets/base",
            "_view_module_version": "1.2.0",
            "_view_name": "LayoutView",
            "align_content": null,
            "align_items": null,
            "align_self": null,
            "border": null,
            "bottom": null,
            "display": null,
            "flex": null,
            "flex_flow": null,
            "grid_area": null,
            "grid_auto_columns": null,
            "grid_auto_flow": null,
            "grid_auto_rows": null,
            "grid_column": null,
            "grid_gap": null,
            "grid_row": null,
            "grid_template_areas": null,
            "grid_template_columns": null,
            "grid_template_rows": null,
            "height": null,
            "justify_content": null,
            "justify_items": null,
            "left": null,
            "margin": null,
            "max_height": null,
            "max_width": null,
            "min_height": null,
            "min_width": null,
            "object_fit": null,
            "object_position": null,
            "order": null,
            "overflow": null,
            "overflow_x": null,
            "overflow_y": null,
            "padding": null,
            "right": null,
            "top": null,
            "visibility": null,
            "width": null
          }
        },
        "8f1a01a709984e409c9366be17a83ef2": {
          "model_module": "@jupyter-widgets/base",
          "model_name": "LayoutModel",
          "model_module_version": "1.2.0",
          "state": {
            "_model_module": "@jupyter-widgets/base",
            "_model_module_version": "1.2.0",
            "_model_name": "LayoutModel",
            "_view_count": null,
            "_view_module": "@jupyter-widgets/base",
            "_view_module_version": "1.2.0",
            "_view_name": "LayoutView",
            "align_content": null,
            "align_items": null,
            "align_self": null,
            "border": null,
            "bottom": null,
            "display": null,
            "flex": null,
            "flex_flow": null,
            "grid_area": null,
            "grid_auto_columns": null,
            "grid_auto_flow": null,
            "grid_auto_rows": null,
            "grid_column": null,
            "grid_gap": null,
            "grid_row": null,
            "grid_template_areas": null,
            "grid_template_columns": null,
            "grid_template_rows": null,
            "height": null,
            "justify_content": null,
            "justify_items": null,
            "left": null,
            "margin": null,
            "max_height": null,
            "max_width": null,
            "min_height": null,
            "min_width": null,
            "object_fit": null,
            "object_position": null,
            "order": null,
            "overflow": null,
            "overflow_x": null,
            "overflow_y": null,
            "padding": null,
            "right": null,
            "top": null,
            "visibility": null,
            "width": null
          }
        },
        "82c5a8fe88894b14a0e39890a03fed8f": {
          "model_module": "@jupyter-widgets/controls",
          "model_name": "DescriptionStyleModel",
          "model_module_version": "1.5.0",
          "state": {
            "_model_module": "@jupyter-widgets/controls",
            "_model_module_version": "1.5.0",
            "_model_name": "DescriptionStyleModel",
            "_view_count": null,
            "_view_module": "@jupyter-widgets/base",
            "_view_module_version": "1.2.0",
            "_view_name": "StyleView",
            "description_width": ""
          }
        },
        "c1a5ab65efa64e4ba1bf8d251b3db2cc": {
          "model_module": "@jupyter-widgets/base",
          "model_name": "LayoutModel",
          "model_module_version": "1.2.0",
          "state": {
            "_model_module": "@jupyter-widgets/base",
            "_model_module_version": "1.2.0",
            "_model_name": "LayoutModel",
            "_view_count": null,
            "_view_module": "@jupyter-widgets/base",
            "_view_module_version": "1.2.0",
            "_view_name": "LayoutView",
            "align_content": null,
            "align_items": null,
            "align_self": null,
            "border": null,
            "bottom": null,
            "display": null,
            "flex": null,
            "flex_flow": null,
            "grid_area": null,
            "grid_auto_columns": null,
            "grid_auto_flow": null,
            "grid_auto_rows": null,
            "grid_column": null,
            "grid_gap": null,
            "grid_row": null,
            "grid_template_areas": null,
            "grid_template_columns": null,
            "grid_template_rows": null,
            "height": null,
            "justify_content": null,
            "justify_items": null,
            "left": null,
            "margin": null,
            "max_height": null,
            "max_width": null,
            "min_height": null,
            "min_width": null,
            "object_fit": null,
            "object_position": null,
            "order": null,
            "overflow": null,
            "overflow_x": null,
            "overflow_y": null,
            "padding": null,
            "right": null,
            "top": null,
            "visibility": null,
            "width": null
          }
        },
        "30c7cc205e1e41bdb1ec6bd818ec11b9": {
          "model_module": "@jupyter-widgets/controls",
          "model_name": "ProgressStyleModel",
          "model_module_version": "1.5.0",
          "state": {
            "_model_module": "@jupyter-widgets/controls",
            "_model_module_version": "1.5.0",
            "_model_name": "ProgressStyleModel",
            "_view_count": null,
            "_view_module": "@jupyter-widgets/base",
            "_view_module_version": "1.2.0",
            "_view_name": "StyleView",
            "bar_color": null,
            "description_width": ""
          }
        },
        "af59cd04c0744bca9b6a32831814d23f": {
          "model_module": "@jupyter-widgets/base",
          "model_name": "LayoutModel",
          "model_module_version": "1.2.0",
          "state": {
            "_model_module": "@jupyter-widgets/base",
            "_model_module_version": "1.2.0",
            "_model_name": "LayoutModel",
            "_view_count": null,
            "_view_module": "@jupyter-widgets/base",
            "_view_module_version": "1.2.0",
            "_view_name": "LayoutView",
            "align_content": null,
            "align_items": null,
            "align_self": null,
            "border": null,
            "bottom": null,
            "display": null,
            "flex": null,
            "flex_flow": null,
            "grid_area": null,
            "grid_auto_columns": null,
            "grid_auto_flow": null,
            "grid_auto_rows": null,
            "grid_column": null,
            "grid_gap": null,
            "grid_row": null,
            "grid_template_areas": null,
            "grid_template_columns": null,
            "grid_template_rows": null,
            "height": null,
            "justify_content": null,
            "justify_items": null,
            "left": null,
            "margin": null,
            "max_height": null,
            "max_width": null,
            "min_height": null,
            "min_width": null,
            "object_fit": null,
            "object_position": null,
            "order": null,
            "overflow": null,
            "overflow_x": null,
            "overflow_y": null,
            "padding": null,
            "right": null,
            "top": null,
            "visibility": null,
            "width": null
          }
        },
        "1df906e09cb646be8efc0c773784f1ca": {
          "model_module": "@jupyter-widgets/controls",
          "model_name": "DescriptionStyleModel",
          "model_module_version": "1.5.0",
          "state": {
            "_model_module": "@jupyter-widgets/controls",
            "_model_module_version": "1.5.0",
            "_model_name": "DescriptionStyleModel",
            "_view_count": null,
            "_view_module": "@jupyter-widgets/base",
            "_view_module_version": "1.2.0",
            "_view_name": "StyleView",
            "description_width": ""
          }
        }
      }
    }
  },
  "cells": [
    {
      "cell_type": "markdown",
      "source": [
        "# GAN이란? "
      ],
      "metadata": {
        "id": "zzyV6ARQAnNO"
      }
    },
    {
      "cell_type": "markdown",
      "source": [
        "GAN, Generative Adversarial Networks란 이미지 생성을 목적으로 하는 딥러닝 방식으로, Generator를 이용해서 실제와 가까운 가짜 데이터를 만들어 내는 것을 목표로 한다.\n",
        "<br>\n",
        "<br>\n",
        "더 나아가 가짜 데이터 뿐만 아니라, 실제 데이터를 기반으로 한 조작된 이미지나 영상(마스크 씌우기, 딥페이크 등)을 생성하기도 한다."
      ],
      "metadata": {
        "id": "LOjmQAFtBL6F"
      }
    },
    {
      "cell_type": "markdown",
      "source": [
        "## GAN 예시"
      ],
      "metadata": {
        "id": "cdMMUYXNCvyX"
      }
    },
    {
      "cell_type": "markdown",
      "source": [
        "GAN의 구조에 대해 알아보기 전에 GAN을 직관적으로 이해할 수 있는 예시를 한 번 보자."
      ],
      "metadata": {
        "id": "kZN3BSUnCyBp"
      }
    },
    {
      "cell_type": "markdown",
      "source": [
        "<img src=\"https://t1.daumcdn.net/cfile/tistory/9928E6375B75872D17\" alt=\"Alternative text\" style=\"width:400px;\" />"
      ],
      "metadata": {
        "id": "BrlWpBl5BAIc"
      }
    },
    {
      "cell_type": "markdown",
      "source": [
        "GAN은 위조지폐를 만드는 범인과, 위조지폐를 검수하는 경찰로 이루어진 모델이라고 할 수 있다.\n",
        "<br><br>\n",
        "범인의 목표는 경찰이 걸러내지 못할 정교한 위조지폐를 만드는 것이 목적이고, 경찰의 목적은 모든 위조지폐를 걸러낼 수 있는 정교한 검수 기술을 만드는 것이 목적이다.\n",
        "<br><br>\n",
        "시간(학습 epoch)이 지날 수록 범인은 검수된 위조지폐의 오류를 토대로 더 정교한 위조지폐를 만들 것이고, 경찰은 진짜인줄 알았는데 나중에 알고보니 위조지폐였던 사건을 토대로 더 정교한 기술을 만들 것이다.\n",
        "<br>\n",
        "<br>\n",
        "**하지만 최종적으로 우리가 원하는 것은 경찰이 아닌 범인이다.**\n",
        "<br><br>\n",
        "GAN은 이렇듯 생성 모델과 검수 모델 두 모델을 합친 방식으로, 양쪽 모두를 학습을 시키면서 정교한 생성모델을 만들어내는 것을 목표로 한다."
      ],
      "metadata": {
        "id": "-Vte2vaqC4Bg"
      }
    },
    {
      "cell_type": "markdown",
      "source": [
        "## GAN 구조"
      ],
      "metadata": {
        "id": "lTNKc-uGCuf4"
      }
    },
    {
      "cell_type": "markdown",
      "source": [
        "<img src=\"https://developers.google.com/static/machine-learning/gan/images/gan_diagram.svg?hl=ko\" alt=\"Alternative text\" style=\"width:400px;\" />"
      ],
      "metadata": {
        "id": "PcXAZsH1Gtc4"
      }
    },
    {
      "cell_type": "markdown",
      "source": [
        "기본적인 GAN은 예시를 들었듯 이미지를 생성하는 Generator와 실제 이미지와 가짜 이미지를 구분하는 Discriminator로 구성된다.\n",
        "<br><br>\n",
        "Generator는 랜덤한 값인 노이즈를 토대로 노이즈에 맞는 랜덤 이미지를 생성한다. 생성된 이미지는 실제 이미지와 함께 Discriminator로 입력되고 Discriminator의 분류에 따라 Generator loss가 결정된다.\n"
      ],
      "metadata": {
        "id": "Vepb4USjBGjS"
      }
    },
    {
      "cell_type": "markdown",
      "source": [
        "<img src=\"https://developers.google.com/static/machine-learning/gan/images/gan_diagram_generator.svg?hl=ko\" alt=\"Alternative text\" style=\"width:400px;\" />"
      ],
      "metadata": {
        "id": "RcHmI0FtGw6U"
      }
    },
    {
      "cell_type": "markdown",
      "source": [
        "생성된 Generator는 위의 사진처럼 역전파가 수행되며 각각의 가중치가 갱신된다. 이때, Discriminator의 가중치는 연산과정에서 사용되지만, 가중치 갱신에서는 사용되지 않는다. 즉, Discrminator의 가중치는 Generator의 학습 과정동안 고정된다."
      ],
      "metadata": {
        "id": "oDo75ZjkG56o"
      }
    },
    {
      "cell_type": "markdown",
      "source": [
        "<img src=\"https://developers.google.com/static/machine-learning/gan/images/gan_diagram_discriminator.svg?hl=ko\" alt=\"Alternative text\" style=\"width:400px;\" />"
      ],
      "metadata": {
        "id": "7Q67BqtNHsYP"
      }
    },
    {
      "cell_type": "markdown",
      "source": [
        "Discriminator의 학습은 Generator의 이미지와 실제 이미지를 분류할 때 생기는 loss를 통해서 학습하는데, 역전파의 과정은 CNN에서의 역전파와 동일하다. 이때, Generator까지 역전파가 흐르는 게 아닌 오직 Discriminator의 가중치만 갱신된다.\n",
        "<br>\n",
        "즉, Discriminator의 학습 동안은 Generator의 가중치는 고정된다.\n",
        "<br><br>\n",
        "이처럼 Generator와 Discriminator는 서로 돌아가면서 학습을 진행하며 발전된다."
      ],
      "metadata": {
        "id": "s9rT2ELLIh4G"
      }
    },
    {
      "cell_type": "markdown",
      "source": [
        "<img src=\"https://images.squarespace-cdn.com/content/v1/5c1828d7c258b4d2ab69b7d7/1558277200599-5LP5V7W9V0CACTAJY9SP/Figure+1.jpg?format=1000w\" alt=\"Alternative text\" style=\"width:400px;\" />"
      ],
      "metadata": {
        "id": "AHYtvcEHVZWi"
      }
    },
    {
      "cell_type": "markdown",
      "source": [
        "모듈의 구조를 살펴보면 Discriminator는 우리가 익히 보는 CNN의 구조이지만, Generator의 구조는 크기가 커지는 \"CNN의 역순\"처럼 보이는 구조를 띄고 있다.\n",
        "<br>\n",
        "이는 DCGAN이라는 GAN을 발전시킨 새로운 GAN으로 CNN 대신 ConvTranspose2d를 사용해 output의 크기를 키운다.\n",
        "<br>\n",
        "<br>\n",
        "하지만 이번 시간에는 GAN의 기본적인 이해를 돕기 위해 DNN을 이용한 GAN을 공부하자.\n"
      ],
      "metadata": {
        "id": "TvwiY36YV6P1"
      }
    },
    {
      "cell_type": "markdown",
      "source": [
        "## GAN의 학습"
      ],
      "metadata": {
        "id": "E3H5M9EjKXBV"
      }
    },
    {
      "cell_type": "markdown",
      "source": [
        "### GAN의 학습 과정"
      ],
      "metadata": {
        "id": "Kh9PkwkWKcec"
      }
    },
    {
      "cell_type": "markdown",
      "source": [
        "위에 썼듯이 Discriminator와 Generator는 일정 Epoch을 단위로 한쪽 모델을 학습시킬 때는 다른 쪽의 구조를 고정한채로 학습을 수행해서 인공지능이 안정적으로 학습할 수 있도록 유도한다."
      ],
      "metadata": {
        "id": "WjZ04-WYKhBa"
      }
    },
    {
      "cell_type": "markdown",
      "source": [
        "문제는 학습이 충분히 지났을 때 이루어진다면 문제가 발생하는데, 바로 Generator가 지나치게 똑똑해진다는 것이다. Generator가 실제를 충분히 모방하기 시작했을 때부터 Discriminator는 필연적으로 50%의 확률로만 정답을 맞출 수 있다. 즉 더이상 학습하는 의미가 줄어든다.\n",
        "<br><br>\n",
        "즉 Generator는 에폭이 줄어들 수록 유의미한 피드백을 받을 확률이 줄어들고 더 나아가 능력에 부정적인 피드백을 받을 확률이 더 늘어나, 부정적인 오버피팅이 일어날 수 있다."
      ],
      "metadata": {
        "id": "BK8cGSdKLMiR"
      }
    },
    {
      "cell_type": "markdown",
      "source": [
        "### GAN의 Loss Function"
      ],
      "metadata": {
        "id": "GdzDjAUcMw_I"
      }
    },
    {
      "cell_type": "markdown",
      "source": [
        "GAN은 실제 사진의 feature분포(공간, 색 등)의 확률분포를 모방하려고 하며, 과정에서 Generator와 Discriminator의 두 모델을 사용한다. 그렇기에 GAN은 기존에 있던 CrossEntropy등의 Loss Function과는 다른 함수를 필요로 한다. 그래서 GAN은 Generator와 Discriminator를 연산에 포함하는 새로운 Loss Function을 정의한다."
      ],
      "metadata": {
        "id": "KTyEYao8NJ7d"
      }
    },
    {
      "cell_type": "markdown",
      "source": [
        "<img src=\"https://velog.velcdn.com/images%2Fhyebbly%2Fpost%2Fa6e590a2-92a6-4bde-8e10-70daf3103849%2Fimage.png\" alt=\"Alternative text\" style=\"width:400px;\" />"
      ],
      "metadata": {
        "id": "frkvIGZKP4nm"
      }
    },
    {
      "cell_type": "markdown",
      "source": [
        "식에 대해서 자세하게 들어가기보다는 천천히 식이 무엇을 의도하는지만 간단히 하고 넘어가자. 궁금한 사람은 밑에 논문 링크나 인터넷 해설을 찾아보자\n",
        "<br><br>\n",
        "https://arxiv.org/pdf/1406.2661.pdf"
      ],
      "metadata": {
        "id": "cW0Cl0ptQZ_x"
      }
    },
    {
      "cell_type": "markdown",
      "source": [
        "minmax V(D,G)는 V(D,G)라는 Value Function에 대해서 D모델은 해당 함수의 값을 최대로 만드려 하고, G라는 모델은 최소화 해야한다는 것이다. Loss Function이라는 측면에서 이 함수는 G를 초점으로 고안된 함수라는 것을 알 수 있다."
      ],
      "metadata": {
        "id": "Lt34woz4RGvh"
      }
    },
    {
      "cell_type": "markdown",
      "source": [
        "이제 왼쪽의 식을 보자. x는 준비된 데이터셋 안에 있는 실제 이미지들을 의미하고, z는 노이즈, G(z)는 노이즈를 토대로 만들어낸 가짜 이미지이다.\n",
        "<br>\n",
        "D(X)는 X가 진짜 이미지라고 Discriminator가 예측할 확률이다. 즉, D(G(z))는 Discriminator가 속을 확률이라는 의미이다.\n",
        "<br><br>\n",
        "이제 식을 다시 보자. 해당 함수가 최대가 되기 위해서는 Discrimiator 즉 D는 x에 대해서 1로, 항상 참이라고 예측해야하고 G(z)에 대해서는 항상 거짓이라고 예측해야한다.\n",
        "<br>\n",
        "또, 해당 함수가 최소가 되기 위해서는 Generator가 오히려 x를 뛰어넘어 항상 D가 G(z)에 대해서 참이라고 설정하도록 유도해야한다.\n",
        "<br><br>\n",
        "이처럼 GAN은 두 모델이 서로 Loss function을 다른 방향으로 변하게 하는 것을 목표로 잡도록 해 서로 적대하도록(adversarial) 만들어 학습을 유도하는 것이다."
      ],
      "metadata": {
        "id": "yNdPq-A_QRG9"
      }
    },
    {
      "cell_type": "markdown",
      "source": [
        "## GAN 실습해보기"
      ],
      "metadata": {
        "id": "x6n-e79T0p3r"
      }
    },
    {
      "cell_type": "code",
      "execution_count": null,
      "metadata": {
        "id": "cEs9yWcGAi0G",
        "colab": {
          "base_uri": "https://localhost:8080/"
        },
        "outputId": "8fd6a4c3-1a57-46cc-f558-b3ef0af8677c"
      },
      "outputs": [
        {
          "output_type": "stream",
          "name": "stdout",
          "text": [
            "True\n"
          ]
        }
      ],
      "source": [
        "import torch\n",
        "import torch.nn as nn\n",
        "import torch.optim as optim\n",
        "import torchvision.utils as utils\n",
        "import torchvision.datasets as dsets\n",
        "import torchvision.transforms as transforms\n",
        "\n",
        "is_cuda = torch.cuda.is_available()\n",
        "print(is_cuda)\n",
        "device = torch.device('cuda' if is_cuda else 'cpu')"
      ]
    },
    {
      "cell_type": "markdown",
      "source": [
        "이번 실습은 MNIST 데이터를 모방하는 생성자를 만드는 것을 목표로 한다. 먼저 데이터셋을 다운 받자."
      ],
      "metadata": {
        "id": "AOjgOrVi0wbo"
      }
    },
    {
      "cell_type": "code",
      "source": [
        "# standardization code\n",
        "transform = transforms.Compose([\n",
        "                    transforms.ToTensor(),\n",
        "                    transforms.Normalize(mean=(0.5),   # 3 for RGB channels이나 실제론 gray scale\n",
        "                                         std=(0.5))])  # 3 for RGB channels이나 실제론 gray scale\n",
        "\n",
        "# MNIST dataset\n",
        "train_data = dsets.MNIST(root='data/', train=True, transform=transform, download=True)\n",
        "test_data  = dsets.MNIST(root='data/', train=False, transform=transform, download=True)\n",
        "\n",
        "\n",
        "batch_size = 200\n",
        "train_data_loader = torch.utils.data.DataLoader(train_data, batch_size, shuffle=True)\n",
        "test_data_loader  = torch.utils.data.DataLoader(test_data, batch_size, shuffle=True)"
      ],
      "metadata": {
        "colab": {
          "base_uri": "https://localhost:8080/",
          "height": 455,
          "referenced_widgets": [
            "8b9e4b73a7e94bbab89840ccb7b1d763",
            "449d8afee7ba4f17be8909534c3cf230",
            "ba25042715ec48689973049f13273f80",
            "fd6d8e33f58a4fecae1bcf9347b35f23",
            "d8f87c6e3a1e4e3ebcab865d2cba61c9",
            "5a5b14b6f00f4bb88578b8bcadf6c938",
            "439612e8458c415896e3e37c16327e31",
            "279520ed89b148ef93b367af77d97907",
            "93589f3bb02d4fb2905077af8740cd7f",
            "8e5e9a983aa546a19e2e9e2d9a39393e",
            "51740fa0da744785954e76e21de9b221",
            "7fb3e40f65f24780a1ad58ca423c9d00",
            "7adef169c0164d8287b3cd5c28ab4477",
            "d86ccdddb80b44369c6fc4adc8fd22b9",
            "c8d8ae9e5bcf48dea1db57bb50e0e820",
            "cc5b6cf22ace43e99044b2722287d176",
            "28a1327e7a5740d5bad8a53ed7f6b9f5",
            "c886d5e572fb48639ef8f4aed0ea31ee",
            "daf40586a7a04286ac3e391749d9ab85",
            "db2037239bcd48b18e0c8cbf74f6c7af",
            "1f7f181fa6a34672af5d38fe7ee81ef4",
            "876f6925fa6a4cc885b008bad2ede9ed",
            "2355ae2d907a42c6ae89999cd0413b36",
            "008c5ae0880346408a0e14135b9c8d65",
            "7fa9166d1678434082f21dc25c49c470",
            "146e5c3a3954433d88857cf3ab7e17d5",
            "581a1fd06fbc4d9ba65c05f2f7c93f5e",
            "f5721f6d176e466b99eaaca02147bbad",
            "3802b6cf285b4ebfbd6515c27285d18d",
            "992e0642ed09460c86e23130fca46e92",
            "4f8d2be5d761475bb085a93a73a09838",
            "1294d61f84834c9b96d1ea371a6692ee",
            "71887d594e384e8da344a5ca13d2ff66",
            "cc7888a2beca404d843eb0a7470d3d3a",
            "215ec4b3737e48d6aaa3798c1dd49965",
            "809abaee8ea94de4a8db1728aa2624d0",
            "7ff0ed90ee494dc9a348c0659661f12d",
            "b7747de0405545758842ccb4c19b3beb",
            "8f1a01a709984e409c9366be17a83ef2",
            "82c5a8fe88894b14a0e39890a03fed8f",
            "c1a5ab65efa64e4ba1bf8d251b3db2cc",
            "30c7cc205e1e41bdb1ec6bd818ec11b9",
            "af59cd04c0744bca9b6a32831814d23f",
            "1df906e09cb646be8efc0c773784f1ca"
          ]
        },
        "id": "0gu2MEqafylh",
        "outputId": "cd1dbc40-3d42-4276-e787-935673a99c3a"
      },
      "execution_count": null,
      "outputs": [
        {
          "output_type": "stream",
          "name": "stdout",
          "text": [
            "Downloading http://yann.lecun.com/exdb/mnist/train-images-idx3-ubyte.gz\n",
            "Downloading http://yann.lecun.com/exdb/mnist/train-images-idx3-ubyte.gz to data/MNIST/raw/train-images-idx3-ubyte.gz\n"
          ]
        },
        {
          "output_type": "display_data",
          "data": {
            "text/plain": [
              "  0%|          | 0/9912422 [00:00<?, ?it/s]"
            ],
            "application/vnd.jupyter.widget-view+json": {
              "version_major": 2,
              "version_minor": 0,
              "model_id": "8b9e4b73a7e94bbab89840ccb7b1d763"
            }
          },
          "metadata": {}
        },
        {
          "output_type": "stream",
          "name": "stdout",
          "text": [
            "Extracting data/MNIST/raw/train-images-idx3-ubyte.gz to data/MNIST/raw\n",
            "\n",
            "Downloading http://yann.lecun.com/exdb/mnist/train-labels-idx1-ubyte.gz\n",
            "Downloading http://yann.lecun.com/exdb/mnist/train-labels-idx1-ubyte.gz to data/MNIST/raw/train-labels-idx1-ubyte.gz\n"
          ]
        },
        {
          "output_type": "display_data",
          "data": {
            "text/plain": [
              "  0%|          | 0/28881 [00:00<?, ?it/s]"
            ],
            "application/vnd.jupyter.widget-view+json": {
              "version_major": 2,
              "version_minor": 0,
              "model_id": "7fb3e40f65f24780a1ad58ca423c9d00"
            }
          },
          "metadata": {}
        },
        {
          "output_type": "stream",
          "name": "stdout",
          "text": [
            "Extracting data/MNIST/raw/train-labels-idx1-ubyte.gz to data/MNIST/raw\n",
            "\n",
            "Downloading http://yann.lecun.com/exdb/mnist/t10k-images-idx3-ubyte.gz\n",
            "Downloading http://yann.lecun.com/exdb/mnist/t10k-images-idx3-ubyte.gz to data/MNIST/raw/t10k-images-idx3-ubyte.gz\n"
          ]
        },
        {
          "output_type": "display_data",
          "data": {
            "text/plain": [
              "  0%|          | 0/1648877 [00:00<?, ?it/s]"
            ],
            "application/vnd.jupyter.widget-view+json": {
              "version_major": 2,
              "version_minor": 0,
              "model_id": "2355ae2d907a42c6ae89999cd0413b36"
            }
          },
          "metadata": {}
        },
        {
          "output_type": "stream",
          "name": "stdout",
          "text": [
            "Extracting data/MNIST/raw/t10k-images-idx3-ubyte.gz to data/MNIST/raw\n",
            "\n",
            "Downloading http://yann.lecun.com/exdb/mnist/t10k-labels-idx1-ubyte.gz\n",
            "Downloading http://yann.lecun.com/exdb/mnist/t10k-labels-idx1-ubyte.gz to data/MNIST/raw/t10k-labels-idx1-ubyte.gz\n"
          ]
        },
        {
          "output_type": "display_data",
          "data": {
            "text/plain": [
              "  0%|          | 0/4542 [00:00<?, ?it/s]"
            ],
            "application/vnd.jupyter.widget-view+json": {
              "version_major": 2,
              "version_minor": 0,
              "model_id": "cc7888a2beca404d843eb0a7470d3d3a"
            }
          },
          "metadata": {}
        },
        {
          "output_type": "stream",
          "name": "stdout",
          "text": [
            "Extracting data/MNIST/raw/t10k-labels-idx1-ubyte.gz to data/MNIST/raw\n",
            "\n"
          ]
        }
      ]
    },
    {
      "cell_type": "code",
      "source": [
        "import numpy as np\n",
        "from matplotlib import pyplot as plt\n",
        "\n",
        "def imshow(img):\n",
        "    img = (img+1)/2    \n",
        "    img = img.squeeze()\n",
        "    np_img = img.numpy()\n",
        "    plt.imshow(np_img, cmap='gray')\n",
        "    plt.show()\n",
        "\n",
        "def imshow_grid(img):\n",
        "    img = utils.make_grid(img.cpu().detach())\n",
        "    img = (img+1)/2\n",
        "    npimg = img.numpy()\n",
        "    plt.imshow(np.transpose(npimg, (1,2,0)))\n",
        "    plt.show()\n",
        "\n",
        "example_mini_batch_img, example_mini_batch_label  = next(iter(train_data_loader))\n",
        "print(example_mini_batch_img[0].shape)\n",
        "print(example_mini_batch_img[0].dim())\n",
        "imshow_grid(example_mini_batch_img[0:16,:,:])\n"
      ],
      "metadata": {
        "colab": {
          "base_uri": "https://localhost:8080/",
          "height": 173
        },
        "id": "otoGAfXrf13n",
        "outputId": "f08a66bd-079f-44e2-bf56-eeab01df327e"
      },
      "execution_count": null,
      "outputs": [
        {
          "output_type": "stream",
          "name": "stdout",
          "text": [
            "torch.Size([1, 28, 28])\n",
            "3\n"
          ]
        },
        {
          "output_type": "display_data",
          "data": {
            "text/plain": [
              "<Figure size 432x288 with 1 Axes>"
            ],
            "image/png": "[encoded data removed]"
          },
          "metadata": {
            "needs_background": "light"
          }
        }
      ]
    },
    {
      "cell_type": "markdown",
      "source": [
        "이제, 랜덤한 노이즈에 따라 각각 다른 MNIST 숫자 이미지를 출력하는 생성자 모델을 정의하자."
      ],
      "metadata": {
        "id": "ZocJf0Pe1PXS"
      }
    },
    {
      "cell_type": "code",
      "source": [
        "from torchsummary import summary as summary_\n",
        "\n",
        "def sample_z(batch_size = 1, d_noise=100, device='cuda'):\n",
        "    return torch.randn(batch_size, d_noise, device=device)\n",
        "\n",
        "\n",
        "\n",
        "\n",
        "class G_Linear(nn.Module):\n",
        "  def __init__(self, d_noise):\n",
        "    super(G_Linear, self).__init__()\n",
        "\n",
        "\n",
        "    self.model = nn.Sequential(\n",
        "      nn.Linear(d_noise, 256),\n",
        "      nn.BatchNorm1d(256),\n",
        "      nn.LeakyReLU(0.2),\n",
        "      nn.Linear(256,512),\n",
        "      nn.BatchNorm1d(512),\n",
        "      nn.LeakyReLU(0.2),\n",
        "      nn.Linear(512,512),\n",
        "      nn.BatchNorm1d(512),\n",
        "      nn.LeakyReLU(0.2),\n",
        "      nn.Linear(512, 28*28),\n",
        "      nn.Tanh()\n",
        "    )\n",
        "    \n",
        "  def forward(self, z):\n",
        "\n",
        "      img = self.model(z)\n",
        "      return img\n",
        "\n",
        " \n",
        "\n",
        "# 모델 생성하기\n",
        "g_linear = G_Linear(100).cuda()\n",
        "# 노이즈 생성하기\n",
        "z = sample_z().cuda()\n",
        "\n",
        "\n",
        "# 가짜 이미지 생성하기\n",
        "with torch.no_grad():\n",
        "  g_linear.eval()\n",
        "  img_fake = g_linear(z).view(-1,28,28)\n",
        "# 이미지 출력하기\n",
        "imshow(img_fake.squeeze().cpu().detach())\n",
        "\n",
        "z = sample_z(200)\n",
        "img_fake = g_linear(z)\n",
        "imshow_grid(img_fake)\n",
        "\n",
        "print(img_fake)\n"
      ],
      "metadata": {
        "colab": {
          "base_uri": "https://localhost:8080/",
          "height": 530
        },
        "id": "1J7-sCLTf_mY",
        "outputId": "bba47362-f932-4e5c-d3c3-d8ad37964071"
      },
      "execution_count": null,
      "outputs": [
        {
          "output_type": "display_data",
          "data": {
            "text/plain": [
              "<Figure size 432x288 with 1 Axes>"
            ],
            "image/png": "[encoded data removed]"
          },
          "metadata": {
            "needs_background": "light"
          }
        },
        {
          "output_type": "display_data",
          "data": {
            "text/plain": [
              "<Figure size 432x288 with 1 Axes>"
            ],
            "image/png": "[encoded data removed]"
          },
          "metadata": {
            "needs_background": "light"
          }
        },
        {
          "output_type": "stream",
          "name": "stdout",
          "text": [
            "tensor([[ 0.0205, -0.0005,  0.0322,  ..., -0.0070,  0.0016, -0.0016],\n",
            "        [ 0.0313,  0.0095,  0.0189,  ..., -0.0616, -0.0246,  0.0172],\n",
            "        [ 0.0181,  0.0134,  0.0308,  ..., -0.0465,  0.0196, -0.0533],\n",
            "        ...,\n",
            "        [-0.0222, -0.0491, -0.0058,  ..., -0.0411, -0.0006,  0.0162],\n",
            "        [-0.0406, -0.0412, -0.0085,  ...,  0.0033, -0.0077, -0.0345],\n",
            "        [ 0.0259,  0.0228,  0.0351,  ...,  0.0145,  0.0712, -0.0263]],\n",
            "       device='cuda:0', grad_fn=<TanhBackward0>)\n"
          ]
        }
      ]
    },
    {
      "cell_type": "markdown",
      "source": [
        "아직 학습이 수행되지 않아 구별할 수 없는 노이즈만 존재하는 것을 확인할 수 있다.\n",
        "<br>\n",
        "하지만 이후에 학습을 수행한 뒤 어떻게 변경되는지 확인해보자."
      ],
      "metadata": {
        "id": "6726DBPw1aqN"
      }
    },
    {
      "cell_type": "markdown",
      "source": [
        "이제, 분류를 수행할 판별자를 정의하자."
      ],
      "metadata": {
        "id": "xy012rCT1odp"
      }
    },
    {
      "cell_type": "code",
      "source": [
        "class D_Linear(nn.Module):\n",
        "    def __init__(self):\n",
        "        super(D_Linear, self).__init__()\n",
        "\n",
        "        self.model = nn.Sequential(\n",
        "            nn.Linear(28*28, 512),\n",
        "            nn.LeakyReLU(0.2),\n",
        "            nn.Linear(512, 256),\n",
        "            nn.LeakyReLU(0.2),\n",
        "            nn.Linear(256, 1),\n",
        "            nn.Sigmoid(),\n",
        "        )\n",
        "\n",
        "    def forward(self, img):\n",
        "        validity = self.model(img)\n",
        "        return validity\n",
        "\n",
        "d_linear = D_Linear()\n",
        "d_linear"
      ],
      "metadata": {
        "id": "9-grFMuVsBfH",
        "colab": {
          "base_uri": "https://localhost:8080/"
        },
        "outputId": "26664d65-4b7d-4a49-ff93-27a1f3f25cc0"
      },
      "execution_count": null,
      "outputs": [
        {
          "output_type": "execute_result",
          "data": {
            "text/plain": [
              "D_Linear(\n",
              "  (model): Sequential(\n",
              "    (0): Linear(in_features=784, out_features=512, bias=True)\n",
              "    (1): LeakyReLU(negative_slope=0.2)\n",
              "    (2): Linear(in_features=512, out_features=256, bias=True)\n",
              "    (3): LeakyReLU(negative_slope=0.2)\n",
              "    (4): Linear(in_features=256, out_features=1, bias=True)\n",
              "    (5): Sigmoid()\n",
              "  )\n",
              ")"
            ]
          },
          "metadata": {},
          "execution_count": 6
        }
      ]
    },
    {
      "cell_type": "markdown",
      "source": [
        "판별자는 오직 진짜, 가짜 판별만을 수행하므로 loss function은 BCE로 정의하자."
      ],
      "metadata": {
        "id": "Ugp76AmY37oL"
      }
    },
    {
      "cell_type": "code",
      "source": [
        "# Loss function\n",
        "adversarial_loss = torch.nn.BCELoss()\n",
        "\n",
        "# Initialize generator and discriminator\n",
        "generator = G_Linear(100)\n",
        "discriminator = D_Linear()\n",
        "\n",
        "print(device)\n",
        "\n",
        "\n",
        "generator.cuda()\n",
        "discriminator.cuda()\n",
        "adversarial_loss.cuda()\n",
        "\n",
        "# Optimizers\n",
        "optimizer_G = torch.optim.Adam(generator.parameters(), \n",
        "                               lr=0.0005)\n",
        "optimizer_D = torch.optim.Adam(discriminator.parameters(), \n",
        "                               lr=0.0005)"
      ],
      "metadata": {
        "colab": {
          "base_uri": "https://localhost:8080/"
        },
        "id": "IqM1X0lRsreP",
        "outputId": "7e0c20d9-6738-4a9f-98ef-956f0614c9c1"
      },
      "execution_count": null,
      "outputs": [
        {
          "output_type": "stream",
          "name": "stdout",
          "text": [
            "cuda\n"
          ]
        }
      ]
    },
    {
      "cell_type": "markdown",
      "source": [
        "한 에폭에서 mini_batch별로 Discriminator를 학습하고 다음 Generator를 학습하는 것을 볼 수 있다."
      ],
      "metadata": {
        "id": "2W6WktWI2vU9"
      }
    },
    {
      "cell_type": "code",
      "source": [
        "criterion = nn.BCELoss()\n",
        "d_noise=100\n",
        "\n",
        "def run_epoch(generator, discriminator, _optimizer_g, _optimizer_d):\n",
        "\n",
        "    generator.train()\n",
        "    discriminator.train()\n",
        "\n",
        "    for img_batch, label_batch in train_data_loader:\n",
        "\n",
        "        img_batch, label_batch = img_batch.to(device), label_batch.to(device)\n",
        "\n",
        "        # ================================================  #\n",
        "        # maximize V(discriminator,generator) = optimize discriminator (setting k to be 1)  #\n",
        "        # ================================================  #\n",
        "\n",
        "        # init optimizer\n",
        "        _optimizer_d.zero_grad()\n",
        "\n",
        "        p_real = discriminator(img_batch.view(-1, 28*28))\n",
        "\n",
        "        z = torch.randn(batch_size, 100).to(device)\n",
        "        p_fake = discriminator(generator(z))\n",
        "\n",
        "\n",
        "        # ================================================  #\n",
        "        #     Loss computation (based on Cross Entropy)     #\n",
        "        # ================================================  #\n",
        "        loss_d = criterion(p_real, torch.ones_like(p_real).to(device)) + \\\n",
        "                  criterion(p_fake, torch.zeros_like(p_real).to(device)) \n",
        "                  \n",
        "        # Update parameters\n",
        "        loss_d.backward()\n",
        "        _optimizer_d.step()\n",
        "        # ================================================  #\n",
        "        #        minimize V(discriminator,generator)        #\n",
        "        # ================================================  #\n",
        "\n",
        "        # init optimizer\n",
        "        _optimizer_g.zero_grad()\n",
        "        z = torch.randn(batch_size, 100).to(device)\n",
        "        p_fake = discriminator(generator(z))\n",
        "        # ================================================  #\n",
        "        #     Loss computation (based on Cross Entropy)     #\n",
        "        # ================================================  #\n",
        "        loss_g = criterion(p_fake, torch.ones_like(p_fake).to(device)) \n",
        "        loss_g.backward()\n",
        "\n",
        "        # Update parameters\n",
        "        _optimizer_g.step()\n",
        "\n",
        "def evaluate_model(generator, discriminator):\n",
        "\n",
        "    p_real, p_fake = 0.,0.\n",
        "\n",
        "    generator.eval()\n",
        "    discriminator.eval()\n",
        "\n",
        "    for img_batch, label_batch in test_data_loader:\n",
        "\n",
        "        img_batch, label_batch = img_batch.to(device), label_batch.to(device)\n",
        "\n",
        "        with torch.autograd.no_grad():\n",
        "            p_real += (torch.sum(discriminator(img_batch.view(-1, 28*28))).item())/10000.\n",
        "            z = torch.randn(batch_size, 100).to(device)\n",
        "            p_fake += (torch.sum(discriminator(generator(z))).item())/10000.\n",
        "\n",
        "\n",
        "    return p_real, p_fake"
      ],
      "metadata": {
        "id": "BkcOS3MFtvVZ"
      },
      "execution_count": null,
      "outputs": []
    },
    {
      "cell_type": "code",
      "source": [
        "def init_params(model):\n",
        "    for p in model.parameters():\n",
        "        if(p.dim() > 1):\n",
        "            nn.init.xavier_normal_(p)\n",
        "        else:\n",
        "            nn.init.uniform_(p, 0.1, 0.2)\n",
        "init_params(generator)\n",
        "init_params(discriminator)"
      ],
      "metadata": {
        "id": "hP_gl-JNurad"
      },
      "execution_count": null,
      "outputs": []
    },
    {
      "cell_type": "markdown",
      "source": [
        "학습을 수행해보자(실제 학습하는데 이정도 간단한 모델도 50분 넘게 걸린다. 이 셀 이후부터는 보기만 하는 것을 추천한다.)\n",
        "<br>\n",
        "물론, 본인이 관련 전공이거나 흥미가 있다면 꼭 코드를 분석하고 실제로 수행해보자."
      ],
      "metadata": {
        "id": "G9ly5VBL259q"
      }
    },
    {
      "cell_type": "code",
      "source": [
        "p_real_trace = []\n",
        "p_fake_trace = []\n",
        "\n",
        "\n",
        "for epoch in range(200):\n",
        "\n",
        "    run_epoch(generator, discriminator, optimizer_G, optimizer_D)\n",
        "    p_real, p_fake = evaluate_model(generator, discriminator)\n",
        "    p_real_trace.append(p_real)\n",
        "    p_fake_trace.append(p_fake)\n",
        "    if((epoch+1)% 50 == 0):\n",
        "        print('(epoch %i/200) p_real: %f, p_g: %f' % (epoch+1, p_real, p_fake))\n",
        "        imshow_grid(generator(sample_z(16)).view(-1, 1, 28, 28))"
      ],
      "metadata": {
        "colab": {
          "base_uri": "https://localhost:8080/",
          "height": 570
        },
        "id": "eonBsthlQYE_",
        "outputId": "244298ea-b85a-474c-fe2e-a727ab249b71"
      },
      "execution_count": null,
      "outputs": [
        {
          "output_type": "stream",
          "name": "stdout",
          "text": [
            "(epoch 50/200) p_real: 0.914904, p_g: 0.227780\n"
          ]
        },
        {
          "output_type": "display_data",
          "data": {
            "text/plain": [
              "<Figure size 432x288 with 1 Axes>"
            ],
            "image/png": "[encoded data removed]"
          },
          "metadata": {
            "needs_background": "light"
          }
        },
        {
          "output_type": "stream",
          "name": "stdout",
          "text": [
            "(epoch 100/200) p_real: 0.630706, p_g: 0.158255\n"
          ]
        },
        {
          "output_type": "display_data",
          "data": {
            "text/plain": [
              "<Figure size 432x288 with 1 Axes>"
            ],
            "image/png": "[encoded data removed]"
          },
          "metadata": {
            "needs_background": "light"
          }
        },
        {
          "output_type": "stream",
          "name": "stdout",
          "text": [
            "(epoch 150/200) p_real: 0.663386, p_g: 0.300351\n"
          ]
        },
        {
          "output_type": "display_data",
          "data": {
            "text/plain": [
              "<Figure size 432x288 with 1 Axes>"
            ],
            "image/png": "[encoded data removed]"
          },
          "metadata": {
            "needs_background": "light"
          }
        },
        {
          "output_type": "stream",
          "name": "stdout",
          "text": [
            "(epoch 200/200) p_real: 0.599043, p_g: 0.314559\n"
          ]
        },
        {
          "output_type": "display_data",
          "data": {
            "text/plain": [
              "<Figure size 432x288 with 1 Axes>"
            ],
            "image/png": "[encoded data removed]"
          },
          "metadata": {
            "needs_background": "light"
          }
        }
      ]
    },
    {
      "cell_type": "code",
      "source": [
        "# 가짜 이미지 생성하기\n",
        "with torch.no_grad():\n",
        "  generator.eval()\n",
        "  imshow_grid(generator(sample_z(16)).view(-1, 1, 28, 28))\n",
        "# 이미지 출력하기\n",
        "\n"
      ],
      "metadata": {
        "id": "f4paEDMuX1tx",
        "colab": {
          "base_uri": "https://localhost:8080/",
          "height": 137
        },
        "outputId": "8ae171a1-3d19-4873-d383-c8e44b24fd9a"
      },
      "execution_count": null,
      "outputs": [
        {
          "output_type": "display_data",
          "data": {
            "text/plain": [
              "<Figure size 432x288 with 1 Axes>"
            ],
            "image/png": "[encoded data removed]"
          },
          "metadata": {
            "needs_background": "light"
          }
        }
      ]
    },
    {
      "cell_type": "markdown",
      "source": [
        "간단한 모델인 것을 감안했을때 매우 준수한 성능이다. 육안으로도 많은 숫자들을 구별할 수 있다."
      ],
      "metadata": {
        "id": "ySAK7u1bqw1G"
      }
    },
    {
      "cell_type": "markdown",
      "source": [
        "이제 훈련된 생성 모델이 인공지능도 분류할 수 있을만큼 정확한 가짜 사진을 생성하는지 확인해보자.\n",
        "<br><br>\n",
        "먼저 MNIST 분류 모델을 간단하게 만들자."
      ],
      "metadata": {
        "id": "SkIICVLaYeWu"
      }
    },
    {
      "cell_type": "code",
      "source": [
        "class Model(nn.Module):\n",
        "  def __init__(self):\n",
        "    super(Model, self).__init__()\n",
        "\n",
        "    self.model = nn.Sequential(\n",
        "        nn.Linear(28*28, 128),\n",
        "        nn.ReLU(),\n",
        "        nn.Linear(128,200),\n",
        "        nn.ReLU(),\n",
        "        nn.Linear(200,10),\n",
        "        nn.Tanh()\n",
        "    )\n",
        "\n",
        "  def forward(self,x):\n",
        "    out = self.model(x)\n",
        "    return out\n",
        "\n",
        "\n",
        "model = Model().cuda()\n",
        "\n",
        "optimizer = torch.optim.SGD(model.parameters(), lr=0.01)\n",
        "criterion = nn.CrossEntropyLoss()\n",
        "\n",
        "for epoch in range(10):\n",
        "  model.train()\n",
        "\n",
        "  for batch_idx,(img,label) in enumerate(train_data_loader):\n",
        "    img, label = img.to(device), label.to(device)\n",
        "\n",
        "    optimizer.zero_grad()\n",
        "\n",
        "    output = model(img.view(-1,28*28))\n",
        "    loss = criterion(output, label)\n",
        "\n",
        "    loss.backward()\n",
        "    optimizer.step()\n",
        "\n",
        "  \n",
        "  print('Train Epoch: {} [{}/{} ({:.0f}%)]\\tLoss: {:.6f}'.format(\n",
        "      epoch, batch_idx * len(img), len(train_data_loader.dataset),\n",
        "      100. * batch_idx / len(train_data_loader), loss.item()))\n",
        "\n",
        "\n",
        "\n",
        "    "
      ],
      "metadata": {
        "id": "kJ_hlPx33-KH",
        "colab": {
          "base_uri": "https://localhost:8080/"
        },
        "outputId": "dbf7fddf-c255-4c69-ffa4-8aae9ccaeebe"
      },
      "execution_count": null,
      "outputs": [
        {
          "output_type": "stream",
          "name": "stdout",
          "text": [
            "Train Epoch: 0 [59800/60000 (100%)]\tLoss: 1.512022\n",
            "Train Epoch: 1 [59800/60000 (100%)]\tLoss: 1.252890\n",
            "Train Epoch: 2 [59800/60000 (100%)]\tLoss: 1.164337\n",
            "Train Epoch: 3 [59800/60000 (100%)]\tLoss: 1.116447\n",
            "Train Epoch: 4 [59800/60000 (100%)]\tLoss: 1.109630\n",
            "Train Epoch: 5 [59800/60000 (100%)]\tLoss: 1.026571\n",
            "Train Epoch: 6 [59800/60000 (100%)]\tLoss: 1.021027\n",
            "Train Epoch: 7 [59800/60000 (100%)]\tLoss: 0.981698\n",
            "Train Epoch: 8 [59800/60000 (100%)]\tLoss: 0.998707\n",
            "Train Epoch: 9 [59800/60000 (100%)]\tLoss: 0.985272\n"
          ]
        }
      ]
    },
    {
      "cell_type": "code",
      "source": [
        "model.eval()\n",
        "test_loss = 0\n",
        "correct = 0\n",
        "criterion =  nn.CrossEntropyLoss(reduction='sum') #add all samples in a mini-batch\n",
        "with torch.no_grad():\n",
        "    for data, target in test_data_loader:\n",
        "        data, target = data.to(device), target.to(device)\n",
        "        output = model(data.view(-1,28*28))\n",
        "        loss = criterion(output, target)\n",
        "        test_loss +=  loss.item()\n",
        "        pred = output.argmax(dim=1, keepdim=True) # get the index of the max log-probability\n",
        "        correct += pred.eq(target.view_as(pred)).sum().item()\n",
        "\n",
        "test_loss /= len(test_data_loader.dataset)\n",
        "\n",
        "print('\\nTest set: Average loss: {:.4f}, Accuracy: {}/{} ({:.0f}%)\\n'.format(\n",
        "    test_loss, correct, len(test_data_loader.dataset),\n",
        "    100. * correct / len(test_data_loader.dataset)))"
      ],
      "metadata": {
        "colab": {
          "base_uri": "https://localhost:8080/"
        },
        "id": "Q_LMPtCusTML",
        "outputId": "bf18505e-4048-4b94-fcb6-a1f503061107"
      },
      "execution_count": null,
      "outputs": [
        {
          "output_type": "stream",
          "name": "stdout",
          "text": [
            "\n",
            "Test set: Average loss: 0.9952, Accuracy: 9110/10000 (91%)\n",
            "\n"
          ]
        }
      ]
    },
    {
      "cell_type": "markdown",
      "source": [
        "이제 생성자가 만든 사진을 MNIST에 넣어보자.\n"
      ],
      "metadata": {
        "id": "v4bvYTTTp5PX"
      }
    },
    {
      "cell_type": "code",
      "source": [
        "torch.no_grad()\n",
        "generator.eval()\n",
        "model.eval()\n",
        "\n",
        "z = torch.randn(batch_size, 100).to(device)\n",
        "output = generator(z)\n",
        "\n",
        "label_list = []\n",
        "\n",
        "for img in output[:16]:\n",
        "  label = model(img.view(-1,28*28))\n",
        "  label_list.append(label.argmax().item())\n",
        "\n",
        "imshow_grid(output[:16].view(-1, 1, 28, 28))\n",
        "print(label_list[:8])\n",
        "print(label_list[8:])"
      ],
      "metadata": {
        "colab": {
          "base_uri": "https://localhost:8080/",
          "height": 173
        },
        "id": "DM-9xc1Ip4ao",
        "outputId": "a6e45df8-19c1-40ae-d1fd-0819f3ec923c"
      },
      "execution_count": null,
      "outputs": [
        {
          "output_type": "display_data",
          "data": {
            "text/plain": [
              "<Figure size 432x288 with 1 Axes>"
            ],
            "image/png": "[encoded data removed]"
          },
          "metadata": {
            "needs_background": "light"
          }
        },
        {
          "output_type": "stream",
          "name": "stdout",
          "text": [
            "[7, 2, 8, 7, 8, 0, 7, 0]\n",
            "[1, 6, 6, 2, 7, 3, 3, 6]\n"
          ]
        }
      ]
    },
    {
      "cell_type": "markdown",
      "source": [
        "생각보다 인공지능이 잘 분류해 내는 것을 확인할 수 있다.\n",
        "<br>\n",
        "<br>\n",
        "GAN은 이미 연구가 많이 이루어져 정말 정교한 수준의 작업을 수행할 수 있는 모델들이 많이 준비되어있다. 정말 매우 흥미로운 분야 중 하나이므로 꼭 더 찾아보고 관련 프로젝트를 해보는 것을 추천한다."
      ],
      "metadata": {
        "id": "58xZvDvJuoK_"
      }
    }
  ]
}