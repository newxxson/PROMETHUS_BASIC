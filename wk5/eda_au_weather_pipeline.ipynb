{
 "cells": [
  {
   "cell_type": "code",
   "execution_count": 1,
   "metadata": {},
   "outputs": [],
   "source": [
    "import numpy as np\n",
    "import pandas as pd\n",
    "import matplotlib.pyplot as plt\n",
    "import seaborn as sns\n",
    "import matplotlib\n",
    "\n",
    "matplotlib.rcParams['figure.figsize'] = (12, 8)"
   ]
  },
  {
   "cell_type": "code",
   "execution_count": 2,
   "metadata": {},
   "outputs": [],
   "source": [
    "from sklearn.pipeline import Pipeline\n",
    "from sklearn.compose import ColumnTransformer\n",
    "from sklearn.base import BaseEstimator, TransformerMixin"
   ]
  },
  {
   "cell_type": "code",
   "execution_count": 3,
   "metadata": {},
   "outputs": [
    {
     "data": {
      "text/html": [
       "<div>\n",
       "<style scoped>\n",
       "    .dataframe tbody tr th:only-of-type {\n",
       "        vertical-align: middle;\n",
       "    }\n",
       "\n",
       "    .dataframe tbody tr th {\n",
       "        vertical-align: top;\n",
       "    }\n",
       "\n",
       "    .dataframe thead th {\n",
       "        text-align: right;\n",
       "    }\n",
       "</style>\n",
       "<table border=\"1\" class=\"dataframe\">\n",
       "  <thead>\n",
       "    <tr style=\"text-align: right;\">\n",
       "      <th></th>\n",
       "      <th>Date</th>\n",
       "      <th>Location</th>\n",
       "      <th>MinTemp</th>\n",
       "      <th>MaxTemp</th>\n",
       "      <th>Rainfall</th>\n",
       "      <th>Evaporation</th>\n",
       "      <th>Sunshine</th>\n",
       "      <th>WindGustDir</th>\n",
       "      <th>WindGustSpeed</th>\n",
       "      <th>WindDir9am</th>\n",
       "      <th>...</th>\n",
       "      <th>Humidity9am</th>\n",
       "      <th>Humidity3pm</th>\n",
       "      <th>Pressure9am</th>\n",
       "      <th>Pressure3pm</th>\n",
       "      <th>Cloud9am</th>\n",
       "      <th>Cloud3pm</th>\n",
       "      <th>Temp9am</th>\n",
       "      <th>Temp3pm</th>\n",
       "      <th>RainToday</th>\n",
       "      <th>RainTomorrow</th>\n",
       "    </tr>\n",
       "  </thead>\n",
       "  <tbody>\n",
       "    <tr>\n",
       "      <th>0</th>\n",
       "      <td>2008-12-01</td>\n",
       "      <td>Albury</td>\n",
       "      <td>13.4</td>\n",
       "      <td>22.9</td>\n",
       "      <td>0.6</td>\n",
       "      <td>NaN</td>\n",
       "      <td>NaN</td>\n",
       "      <td>W</td>\n",
       "      <td>44.0</td>\n",
       "      <td>W</td>\n",
       "      <td>...</td>\n",
       "      <td>71.0</td>\n",
       "      <td>22.0</td>\n",
       "      <td>1007.7</td>\n",
       "      <td>1007.1</td>\n",
       "      <td>8.0</td>\n",
       "      <td>NaN</td>\n",
       "      <td>16.9</td>\n",
       "      <td>21.8</td>\n",
       "      <td>No</td>\n",
       "      <td>No</td>\n",
       "    </tr>\n",
       "    <tr>\n",
       "      <th>1</th>\n",
       "      <td>2008-12-02</td>\n",
       "      <td>Albury</td>\n",
       "      <td>7.4</td>\n",
       "      <td>25.1</td>\n",
       "      <td>0.0</td>\n",
       "      <td>NaN</td>\n",
       "      <td>NaN</td>\n",
       "      <td>WNW</td>\n",
       "      <td>44.0</td>\n",
       "      <td>NNW</td>\n",
       "      <td>...</td>\n",
       "      <td>44.0</td>\n",
       "      <td>25.0</td>\n",
       "      <td>1010.6</td>\n",
       "      <td>1007.8</td>\n",
       "      <td>NaN</td>\n",
       "      <td>NaN</td>\n",
       "      <td>17.2</td>\n",
       "      <td>24.3</td>\n",
       "      <td>No</td>\n",
       "      <td>No</td>\n",
       "    </tr>\n",
       "    <tr>\n",
       "      <th>2</th>\n",
       "      <td>2008-12-03</td>\n",
       "      <td>Albury</td>\n",
       "      <td>12.9</td>\n",
       "      <td>25.7</td>\n",
       "      <td>0.0</td>\n",
       "      <td>NaN</td>\n",
       "      <td>NaN</td>\n",
       "      <td>WSW</td>\n",
       "      <td>46.0</td>\n",
       "      <td>W</td>\n",
       "      <td>...</td>\n",
       "      <td>38.0</td>\n",
       "      <td>30.0</td>\n",
       "      <td>1007.6</td>\n",
       "      <td>1008.7</td>\n",
       "      <td>NaN</td>\n",
       "      <td>2.0</td>\n",
       "      <td>21.0</td>\n",
       "      <td>23.2</td>\n",
       "      <td>No</td>\n",
       "      <td>No</td>\n",
       "    </tr>\n",
       "    <tr>\n",
       "      <th>3</th>\n",
       "      <td>2008-12-04</td>\n",
       "      <td>Albury</td>\n",
       "      <td>9.2</td>\n",
       "      <td>28.0</td>\n",
       "      <td>0.0</td>\n",
       "      <td>NaN</td>\n",
       "      <td>NaN</td>\n",
       "      <td>NE</td>\n",
       "      <td>24.0</td>\n",
       "      <td>SE</td>\n",
       "      <td>...</td>\n",
       "      <td>45.0</td>\n",
       "      <td>16.0</td>\n",
       "      <td>1017.6</td>\n",
       "      <td>1012.8</td>\n",
       "      <td>NaN</td>\n",
       "      <td>NaN</td>\n",
       "      <td>18.1</td>\n",
       "      <td>26.5</td>\n",
       "      <td>No</td>\n",
       "      <td>No</td>\n",
       "    </tr>\n",
       "    <tr>\n",
       "      <th>4</th>\n",
       "      <td>2008-12-05</td>\n",
       "      <td>Albury</td>\n",
       "      <td>17.5</td>\n",
       "      <td>32.3</td>\n",
       "      <td>1.0</td>\n",
       "      <td>NaN</td>\n",
       "      <td>NaN</td>\n",
       "      <td>W</td>\n",
       "      <td>41.0</td>\n",
       "      <td>ENE</td>\n",
       "      <td>...</td>\n",
       "      <td>82.0</td>\n",
       "      <td>33.0</td>\n",
       "      <td>1010.8</td>\n",
       "      <td>1006.0</td>\n",
       "      <td>7.0</td>\n",
       "      <td>8.0</td>\n",
       "      <td>17.8</td>\n",
       "      <td>29.7</td>\n",
       "      <td>No</td>\n",
       "      <td>No</td>\n",
       "    </tr>\n",
       "    <tr>\n",
       "      <th>...</th>\n",
       "      <td>...</td>\n",
       "      <td>...</td>\n",
       "      <td>...</td>\n",
       "      <td>...</td>\n",
       "      <td>...</td>\n",
       "      <td>...</td>\n",
       "      <td>...</td>\n",
       "      <td>...</td>\n",
       "      <td>...</td>\n",
       "      <td>...</td>\n",
       "      <td>...</td>\n",
       "      <td>...</td>\n",
       "      <td>...</td>\n",
       "      <td>...</td>\n",
       "      <td>...</td>\n",
       "      <td>...</td>\n",
       "      <td>...</td>\n",
       "      <td>...</td>\n",
       "      <td>...</td>\n",
       "      <td>...</td>\n",
       "      <td>...</td>\n",
       "    </tr>\n",
       "    <tr>\n",
       "      <th>145455</th>\n",
       "      <td>2017-06-21</td>\n",
       "      <td>Uluru</td>\n",
       "      <td>2.8</td>\n",
       "      <td>23.4</td>\n",
       "      <td>0.0</td>\n",
       "      <td>NaN</td>\n",
       "      <td>NaN</td>\n",
       "      <td>E</td>\n",
       "      <td>31.0</td>\n",
       "      <td>SE</td>\n",
       "      <td>...</td>\n",
       "      <td>51.0</td>\n",
       "      <td>24.0</td>\n",
       "      <td>1024.6</td>\n",
       "      <td>1020.3</td>\n",
       "      <td>NaN</td>\n",
       "      <td>NaN</td>\n",
       "      <td>10.1</td>\n",
       "      <td>22.4</td>\n",
       "      <td>No</td>\n",
       "      <td>No</td>\n",
       "    </tr>\n",
       "    <tr>\n",
       "      <th>145456</th>\n",
       "      <td>2017-06-22</td>\n",
       "      <td>Uluru</td>\n",
       "      <td>3.6</td>\n",
       "      <td>25.3</td>\n",
       "      <td>0.0</td>\n",
       "      <td>NaN</td>\n",
       "      <td>NaN</td>\n",
       "      <td>NNW</td>\n",
       "      <td>22.0</td>\n",
       "      <td>SE</td>\n",
       "      <td>...</td>\n",
       "      <td>56.0</td>\n",
       "      <td>21.0</td>\n",
       "      <td>1023.5</td>\n",
       "      <td>1019.1</td>\n",
       "      <td>NaN</td>\n",
       "      <td>NaN</td>\n",
       "      <td>10.9</td>\n",
       "      <td>24.5</td>\n",
       "      <td>No</td>\n",
       "      <td>No</td>\n",
       "    </tr>\n",
       "    <tr>\n",
       "      <th>145457</th>\n",
       "      <td>2017-06-23</td>\n",
       "      <td>Uluru</td>\n",
       "      <td>5.4</td>\n",
       "      <td>26.9</td>\n",
       "      <td>0.0</td>\n",
       "      <td>NaN</td>\n",
       "      <td>NaN</td>\n",
       "      <td>N</td>\n",
       "      <td>37.0</td>\n",
       "      <td>SE</td>\n",
       "      <td>...</td>\n",
       "      <td>53.0</td>\n",
       "      <td>24.0</td>\n",
       "      <td>1021.0</td>\n",
       "      <td>1016.8</td>\n",
       "      <td>NaN</td>\n",
       "      <td>NaN</td>\n",
       "      <td>12.5</td>\n",
       "      <td>26.1</td>\n",
       "      <td>No</td>\n",
       "      <td>No</td>\n",
       "    </tr>\n",
       "    <tr>\n",
       "      <th>145458</th>\n",
       "      <td>2017-06-24</td>\n",
       "      <td>Uluru</td>\n",
       "      <td>7.8</td>\n",
       "      <td>27.0</td>\n",
       "      <td>0.0</td>\n",
       "      <td>NaN</td>\n",
       "      <td>NaN</td>\n",
       "      <td>SE</td>\n",
       "      <td>28.0</td>\n",
       "      <td>SSE</td>\n",
       "      <td>...</td>\n",
       "      <td>51.0</td>\n",
       "      <td>24.0</td>\n",
       "      <td>1019.4</td>\n",
       "      <td>1016.5</td>\n",
       "      <td>3.0</td>\n",
       "      <td>2.0</td>\n",
       "      <td>15.1</td>\n",
       "      <td>26.0</td>\n",
       "      <td>No</td>\n",
       "      <td>No</td>\n",
       "    </tr>\n",
       "    <tr>\n",
       "      <th>145459</th>\n",
       "      <td>2017-06-25</td>\n",
       "      <td>Uluru</td>\n",
       "      <td>14.9</td>\n",
       "      <td>NaN</td>\n",
       "      <td>0.0</td>\n",
       "      <td>NaN</td>\n",
       "      <td>NaN</td>\n",
       "      <td>NaN</td>\n",
       "      <td>NaN</td>\n",
       "      <td>ESE</td>\n",
       "      <td>...</td>\n",
       "      <td>62.0</td>\n",
       "      <td>36.0</td>\n",
       "      <td>1020.2</td>\n",
       "      <td>1017.9</td>\n",
       "      <td>8.0</td>\n",
       "      <td>8.0</td>\n",
       "      <td>15.0</td>\n",
       "      <td>20.9</td>\n",
       "      <td>No</td>\n",
       "      <td>NaN</td>\n",
       "    </tr>\n",
       "  </tbody>\n",
       "</table>\n",
       "<p>145460 rows × 23 columns</p>\n",
       "</div>"
      ],
      "text/plain": [
       "              Date Location  MinTemp  MaxTemp  Rainfall  Evaporation  \\\n",
       "0       2008-12-01   Albury     13.4     22.9       0.6          NaN   \n",
       "1       2008-12-02   Albury      7.4     25.1       0.0          NaN   \n",
       "2       2008-12-03   Albury     12.9     25.7       0.0          NaN   \n",
       "3       2008-12-04   Albury      9.2     28.0       0.0          NaN   \n",
       "4       2008-12-05   Albury     17.5     32.3       1.0          NaN   \n",
       "...            ...      ...      ...      ...       ...          ...   \n",
       "145455  2017-06-21    Uluru      2.8     23.4       0.0          NaN   \n",
       "145456  2017-06-22    Uluru      3.6     25.3       0.0          NaN   \n",
       "145457  2017-06-23    Uluru      5.4     26.9       0.0          NaN   \n",
       "145458  2017-06-24    Uluru      7.8     27.0       0.0          NaN   \n",
       "145459  2017-06-25    Uluru     14.9      NaN       0.0          NaN   \n",
       "\n",
       "        Sunshine WindGustDir  WindGustSpeed WindDir9am  ... Humidity9am  \\\n",
       "0            NaN           W           44.0          W  ...        71.0   \n",
       "1            NaN         WNW           44.0        NNW  ...        44.0   \n",
       "2            NaN         WSW           46.0          W  ...        38.0   \n",
       "3            NaN          NE           24.0         SE  ...        45.0   \n",
       "4            NaN           W           41.0        ENE  ...        82.0   \n",
       "...          ...         ...            ...        ...  ...         ...   \n",
       "145455       NaN           E           31.0         SE  ...        51.0   \n",
       "145456       NaN         NNW           22.0         SE  ...        56.0   \n",
       "145457       NaN           N           37.0         SE  ...        53.0   \n",
       "145458       NaN          SE           28.0        SSE  ...        51.0   \n",
       "145459       NaN         NaN            NaN        ESE  ...        62.0   \n",
       "\n",
       "        Humidity3pm  Pressure9am  Pressure3pm  Cloud9am  Cloud3pm  Temp9am  \\\n",
       "0              22.0       1007.7       1007.1       8.0       NaN     16.9   \n",
       "1              25.0       1010.6       1007.8       NaN       NaN     17.2   \n",
       "2              30.0       1007.6       1008.7       NaN       2.0     21.0   \n",
       "3              16.0       1017.6       1012.8       NaN       NaN     18.1   \n",
       "4              33.0       1010.8       1006.0       7.0       8.0     17.8   \n",
       "...             ...          ...          ...       ...       ...      ...   \n",
       "145455         24.0       1024.6       1020.3       NaN       NaN     10.1   \n",
       "145456         21.0       1023.5       1019.1       NaN       NaN     10.9   \n",
       "145457         24.0       1021.0       1016.8       NaN       NaN     12.5   \n",
       "145458         24.0       1019.4       1016.5       3.0       2.0     15.1   \n",
       "145459         36.0       1020.2       1017.9       8.0       8.0     15.0   \n",
       "\n",
       "        Temp3pm  RainToday  RainTomorrow  \n",
       "0          21.8         No            No  \n",
       "1          24.3         No            No  \n",
       "2          23.2         No            No  \n",
       "3          26.5         No            No  \n",
       "4          29.7         No            No  \n",
       "...         ...        ...           ...  \n",
       "145455     22.4         No            No  \n",
       "145456     24.5         No            No  \n",
       "145457     26.1         No            No  \n",
       "145458     26.0         No            No  \n",
       "145459     20.9         No           NaN  \n",
       "\n",
       "[145460 rows x 23 columns]"
      ]
     },
     "execution_count": 3,
     "metadata": {},
     "output_type": "execute_result"
    }
   ],
   "source": [
    "data = pd.read_csv('data/weatherAUS.csv')\n",
    "data"
   ]
  },
  {
   "cell_type": "code",
   "execution_count": 4,
   "metadata": {},
   "outputs": [
    {
     "name": "stdout",
     "output_type": "stream",
     "text": [
      "WindGustSpeed is integer\n",
      "WindSpeed9am is integer\n",
      "WindSpeed3pm is integer\n",
      "Humidity9am is integer\n",
      "Humidity3pm is integer\n",
      "Cloud9am is integer\n",
      "Cloud3pm is integer\n"
     ]
    }
   ],
   "source": [
    "int_columns = []\n",
    "for col in data.select_dtypes(include=np.number).columns:\n",
    "    test_data = data[col].dropna().sample(1000).values\n",
    "    int_data = test_data.astype(int)\n",
    "    if np.isclose(test_data, int_data).all():\n",
    "        print(col, 'is integer')\n",
    "        int_columns.append(col)\n",
    "    "
   ]
  },
  {
   "cell_type": "code",
   "execution_count": 5,
   "metadata": {},
   "outputs": [
    {
     "name": "stdout",
     "output_type": "stream",
     "text": [
      "WindGustSpeed [44. 46. 24. 41. 56. 50. 35. 80. 28. 30.]\n",
      "WindSpeed9am [20.  4. 19. 11.  7.  6. 15. 17. 28. 24.]\n",
      "WindSpeed3pm [24. 22. 26.  9. 20. 17. 28. 11.  6. 13.]\n",
      "Humidity9am [71. 44. 38. 45. 82. 55. 49. 48. 42. 58.]\n",
      "Humidity3pm [22. 25. 30. 16. 33. 23. 19.  9. 27. 91.]\n",
      "Cloud9am [ 8. nan  7.  1.  0.  5.  4.  2.  6.  3.]\n",
      "Cloud3pm [nan  2.  8.  7.  1.  5.  4.  6.  3.  0.]\n"
     ]
    }
   ],
   "source": [
    "for col in int_columns:\n",
    "    print(col, data[col].unique()[:10])"
   ]
  },
  {
   "cell_type": "markdown",
   "metadata": {},
   "source": [
    "1. tag nan values to 'Nan' column & drop nan labels"
   ]
  },
  {
   "cell_type": "code",
   "execution_count": 6,
   "metadata": {},
   "outputs": [],
   "source": [
    "class PrepareData(BaseEstimator, TransformerMixin):\n",
    "    def __init__(self, label_name):\n",
    "        self.label_name = label_name\n",
    "        \n",
    "    def fit(self, X):\n",
    "        self.X_ = X.copy()\n",
    "        # tag missing values\n",
    "        self.X_['Nan'] = self.X_.isna().any(axis=1)\n",
    "        # remove missing labels\n",
    "        self.X_.dropna(subset=[self.label_name], inplace=True)\n",
    "        \n",
    "        return self\n",
    "    \n",
    "    def transform(self, X):\n",
    "        return self.X_\n",
    "        "
   ]
  },
  {
   "cell_type": "markdown",
   "metadata": {},
   "source": [
    "2. impute missing values with distribution of the column"
   ]
  },
  {
   "cell_type": "code",
   "execution_count": 7,
   "metadata": {},
   "outputs": [],
   "source": [
    "from sklearn.impute import SimpleImputer\n",
    "\n",
    "class DistributionalImputer(BaseEstimator, TransformerMixin):\n",
    "    def __init__(self, label_name):\n",
    "        self.label_name = label_name\n",
    "        self.label_data = None\n",
    "        \n",
    "    def _check_column_type(self, X):\n",
    "        self.column_type = {}\n",
    "        for col in self.null_cols:\n",
    "            if col == self.label_name:\n",
    "                continue\n",
    "            if X[col].dtype == 'object':\n",
    "                self.column_type[col] = 'cat'\n",
    "            elif X[col].dtype == float:\n",
    "                tmp = X[col].dropna().sample(1000)\n",
    "                if np.isclose(tmp, tmp.astype(int)).all():\n",
    "                    self.column_type[col] = 'int'\n",
    "                else:\n",
    "                    self.column_type[col] = 'float'\n",
    "        \n",
    "    def _make_dist(self, x0, x1, y0, y1):\n",
    "        assert len(x0) == len(y0), 'x0 and y0 must be same length'\n",
    "        assert len(x1) == len(y1), 'x1 and y1 must be same length'\n",
    "        if not isinstance(y0, np.ndarray):\n",
    "            y0 = np.array(y0)\n",
    "        if not isinstance(y1, np.ndarray):\n",
    "            y1 = np.array(y1)\n",
    "            \n",
    "        dist_info = {'x': {0: x0, 1: x1}, 'y': {0: y0.astype(float), 1: y1.astype(float)}}\n",
    "        dist_info['y'][0] /= dist_info['y'][0].sum()\n",
    "        dist_info['y'][1] /= dist_info['y'][1].sum()\n",
    "        \n",
    "        return dist_info\n",
    "        \n",
    "    def dist_cateogrical(self, X: pd.Series):\n",
    "        assert X.dtype == 'object', 'X must be categorical'\n",
    "        bars = sns.countplot(data=pd.DataFrame({'x': X, 'y': self.label_data}), x='x', hue='y')\n",
    "        keys = [key.get_text() for key in bars.get_xticklabels()]\n",
    "        yes_values, no_values = bars.patches[:len(keys)], bars.patches[len(keys):]\n",
    "        assert len(yes_values) == len(no_values), 'Number of yes and no values must be equal'\n",
    "        \n",
    "        yes_values = np.array([value.get_height() for value in yes_values])\n",
    "        no_values = np.array([value.get_height() for value in no_values])\n",
    "        plt.close()\n",
    "        \n",
    "        return self._make_dist(keys, keys, yes_values, no_values)\n",
    "    \n",
    "    def dist_float(self, X: pd.Series):\n",
    "        assert X.dtype == float, 'X must be float'\n",
    "        kde = sns.kdeplot(data=pd.DataFrame({'x': X, 'y': self.label_data}), \n",
    "                          x='x', hue='y', gridsize=1000)\n",
    "        yes_line, no_line = kde.lines\n",
    "        yes_x, yes_y = yes_line.get_data()\n",
    "        no_x, no_y = no_line.get_data()\n",
    "        plt.close()\n",
    "        \n",
    "        return self._make_dist(no_x, yes_x, no_y, yes_y)\n",
    "    \n",
    "    def dist_int(self, X: pd.Series):\n",
    "        # assert X.dtype == int, 'X must be int'\n",
    "        kde = sns.kdeplot(data=pd.DataFrame({'x': X, 'y': self.label_data}),\n",
    "                          x='x', hue='y', gridsize=500)\n",
    "        yes_line, no_line = kde.lines\n",
    "        yes_x, yes_y = yes_line.get_data()\n",
    "        no_x, no_y = no_line.get_data()\n",
    "        \n",
    "        yes_x = np.round(yes_x).astype(int)\n",
    "        no_x = np.round(no_x).astype(int)\n",
    "        \n",
    "        new_yes_y = []\n",
    "        for u in np.unique(yes_x):\n",
    "            new_yes_y.append(yes_y[yes_x == u].sum())\n",
    "        \n",
    "        new_no_y = []\n",
    "        for u in np.unique(no_x):\n",
    "            new_no_y.append(no_y[no_x == u].sum())\n",
    "\n",
    "        plt.close()\n",
    "        return self._make_dist(np.unique(no_x), np.unique(yes_x), new_no_y, new_yes_y)\n",
    "    \n",
    "    def fit(self, X):\n",
    "        self.dist = {}\n",
    "        self.label_data = X[self.label_name]\n",
    "        self.null_cols = X.columns[X.isna().any()].tolist()\n",
    "        self._check_column_type(X)\n",
    "        \n",
    "        for col in self.null_cols:\n",
    "            if col == self.label_name:\n",
    "                continue\n",
    "            if self.column_type[col] == 'cat':\n",
    "                dist_info = self.dist_cateogrical(X[col])\n",
    "            elif self.column_type[col] == 'float':\n",
    "                dist_info = self.dist_float(X[col])\n",
    "            elif self.column_type[col] == 'int':\n",
    "                dist_info = self.dist_int(X[col])\n",
    "            else:\n",
    "                raise ValueError('Column type not supported')\n",
    "                \n",
    "            self.dist[col] = dist_info\n",
    "            \n",
    "        return self\n",
    "    \n",
    "    def transform(self, X):\n",
    "        X_ = X.copy()\n",
    "        # null_cols = X_.columns[X_.isna().any()]\n",
    "        for col in self.dist:\n",
    "            no_idx = X_[X['Nan'] & (X_[self.label_name] == 'No')].index\n",
    "            yes_idx = X_[X['Nan'] & (X_[self.label_name] == 'Yes')].index\n",
    "            \n",
    "            no_impute = np.random.choice(self.dist[col]['x'][0], size=len(no_idx), p=self.dist[col]['y'][0])\n",
    "            yes_impute = np.random.choice(self.dist[col]['x'][1], size=len(yes_idx), p=self.dist[col]['y'][1])\n",
    "            \n",
    "            X_.loc[no_idx, col] = no_impute\n",
    "            X_.loc[yes_idx, col] = yes_impute\n",
    "        \n",
    "        return X_\n",
    "    \n",
    "# dist_imputer = DistributionalImputer(label_name='RainTomorrow')\n",
    "# data = dist_imputer.fit_transform(data)"
   ]
  },
  {
   "cell_type": "markdown",
   "metadata": {},
   "source": [
    "3. preprocess categorical columns & date"
   ]
  },
  {
   "cell_type": "code",
   "execution_count": 30,
   "metadata": {},
   "outputs": [],
   "source": [
    "from sklearn.preprocessing import OneHotEncoder\n",
    "\n",
    "class CategoricalEncoder(BaseEstimator, TransformerMixin):\n",
    "    def __init__(self, label_name, one_hot=False):\n",
    "        self.label_name = label_name\n",
    "        self.one_hot = one_hot\n",
    "        self.encoder = None\n",
    "        self.encoded_value = {}\n",
    "        \n",
    "    def _date_fit(self, X):\n",
    "        date = pd.to_datetime(X['Date'])\n",
    "        self.encoded_value['Year'] = date.dt.year\n",
    "        self.encoded_value['Month'] = date.dt.month\n",
    "        self.encoded_value['Day'] = date.dt.day\n",
    "    \n",
    "    def _direction_fit(self, X: pd.Series, col: str):\n",
    "        directions = ['N', 'NNE', 'NE', 'ENE', 'E', 'ESE', 'SE', 'SSE', 'S', 'SSW', 'SW', 'WSW', 'W', 'WNW', 'NW', 'NNW']\n",
    "        self.encoded_value[col] = X[col].replace(directions, np.arange(len(directions)))\n",
    "    \n",
    "    def _bool_fit(self, X, col):\n",
    "        self.encoded_value[col] = X[col].replace({'No': 0, 'Yes': 1})\n",
    "    \n",
    "    def _location_fit(self, X):\n",
    "        locations_ordered = X.groupby('Location')[self.label_name].mean().sort_values(ascending=False).index\n",
    "        if self.one_hot:\n",
    "            self.encoder = OneHotEncoder(sparse=False, handle_unknown='ignore')\n",
    "            self.encoder.fit(X.values.reshape(-1, 1))\n",
    "        else:\n",
    "            self.encoded_value['Location'] = X['Location'].replace(locations_ordered, np.arange(len(locations_ordered)))\n",
    "    \n",
    "    def fit(self, X):\n",
    "        X[self.label_name] = X[self.label_name].replace({'No': 0, 'Yes': 1})\n",
    "        for col in X.select_dtypes('object').columns[::-1]:\n",
    "            if col == 'Date':\n",
    "                self._date_fit(X)\n",
    "            elif 'Dir' in col:\n",
    "                self._direction_fit(X, col)\n",
    "            elif 'Location' in col:\n",
    "                self._location_fit(X)\n",
    "            elif X[col].nunique() == 2:\n",
    "                self._bool_fit(X, col)\n",
    "            else:\n",
    "                raise ValueError('Column type not supported')\n",
    "        \n",
    "        if self.one_hot:\n",
    "            self.encoder = OneHotEncoder(sparse=False, handle_unknown='ignore')\n",
    "            self.encoder.fit(X.drop(columns=self.label_name))\n",
    "        \n",
    "        return self\n",
    "        \n",
    "    def transform(self, X):\n",
    "        X_ = X.copy()\n",
    "        \n",
    "        for k in self.encoded_value:\n",
    "            X_[k] = self.encoded_value[k]\n",
    "        \n",
    "        if self.one_hot:\n",
    "            X_ = pd.DataFrame(self.encoder.transform(X_), columns=self.encoder.get_feature_names())\n",
    "            X_.index = X.index\n",
    "            X_ = pd.concat([X_, X[self.label_name]], axis=1)\n",
    "        \n",
    "        return X_\n",
    "    \n",
    "# cat_encoder = CategoricalEncoder(label_name='RainTomorrow', one_hot=False)\n",
    "# tmp = cat_encoder.fit_transform(data)"
   ]
  },
  {
   "attachments": {},
   "cell_type": "markdown",
   "metadata": {},
   "source": [
    "4. pipeline"
   ]
  },
  {
   "cell_type": "code",
   "execution_count": null,
   "metadata": {},
   "outputs": [],
   "source": [
    "from sklearn.pipeline import Pipeline\n",
    "\n",
    "preprocessor = Pipeline(['prepare_data': PrepareData(),\n",
    "                         'dist_imputer': DistributionalImputer(label_name='RainTomorrow'),\n",
    "                         'cat_encoder': CategoricalEncoder(label_name='RainTomorrow', one_hot=False)])"
   ]
  },
  {
   "attachments": {},
   "cell_type": "markdown",
   "metadata": {},
   "source": [
    "5. train test split"
   ]
  },
  {
   "cell_type": "code",
   "execution_count": null,
   "metadata": {},
   "outputs": [],
   "source": [
    "from sklearn.model_selection import StratifiedShuffleSplit\n",
    "\n",
    "def train_test_split(data, test_size=0.2, label_name='RainTomorrow', random_state=None):\n",
    "    non_null_idx = data[data['Nan']==False].index\n",
    "    assert len(non_null_idx) >= len(data)*test_size, 'Not enough data to split'\n",
    "    \n",
    "    cv = StratifiedShuffleSplit(test_size=int(len(data) * test_size),\n",
    "                                random_state=random_state)\n",
    "    \n",
    "    _, test_idx = next(cv.split(X=data.loc[non_null_idx], \n",
    "                                y=data.loc[non_null_idx, label_name]))\n",
    "    \n",
    "    train_idx = data.index.difference(test_idx)\n",
    "    train = data.loc[train_idx].shuffle(random_state=random_state)\n",
    "    test = data.loc[test_idx]\n",
    "    \n",
    "    X_train = train.drop(columns=label_name)\n",
    "    y_train = train[label_name]\n",
    "    X_test = test.drop(columns=label_name)\n",
    "    y_test = test[label_name]\n",
    "    \n",
    "    return X_train, y_train, X_test, y_test"
   ]
  },
  {
   "cell_type": "code",
   "execution_count": 11,
   "metadata": {},
   "outputs": [],
   "source": [
    "# original_data = data.copy()\n",
    "data = original_data.copy()"
   ]
  },
  {
   "cell_type": "code",
   "execution_count": 12,
   "metadata": {},
   "outputs": [],
   "source": [
    "prepare_data = PrepareData(label_name='RainTomorrow')\n",
    "data = prepare_data.fit_transform(data)"
   ]
  },
  {
   "cell_type": "code",
   "execution_count": 13,
   "metadata": {},
   "outputs": [
    {
     "data": {
      "text/plain": [
       "85773"
      ]
     },
     "execution_count": 13,
     "metadata": {},
     "output_type": "execute_result"
    }
   ],
   "source": [
    "data.isnull().any(axis=1).sum()"
   ]
  },
  {
   "cell_type": "code",
   "execution_count": 14,
   "metadata": {},
   "outputs": [
    {
     "data": {
      "text/plain": [
       "True     85773\n",
       "False    56420\n",
       "Name: Nan, dtype: int64"
      ]
     },
     "execution_count": 14,
     "metadata": {},
     "output_type": "execute_result"
    }
   ],
   "source": [
    "data['Nan'].value_counts()"
   ]
  },
  {
   "cell_type": "code",
   "execution_count": null,
   "metadata": {},
   "outputs": [],
   "source": [
    "dist_imputer = DistributionalImputer(label_name='RainTomorrow')\n",
    "data = dist_imputer.fit_transform(data)"
   ]
  },
  {
   "cell_type": "code",
   "execution_count": 16,
   "metadata": {},
   "outputs": [
    {
     "name": "stdout",
     "output_type": "stream",
     "text": [
      "<class 'pandas.core.frame.DataFrame'>\n",
      "Int64Index: 142193 entries, 0 to 145458\n",
      "Data columns (total 24 columns):\n",
      " #   Column         Non-Null Count   Dtype  \n",
      "---  ------         --------------   -----  \n",
      " 0   Date           142193 non-null  object \n",
      " 1   Location       142193 non-null  object \n",
      " 2   MinTemp        142193 non-null  float64\n",
      " 3   MaxTemp        142193 non-null  float64\n",
      " 4   Rainfall       142193 non-null  float64\n",
      " 5   Evaporation    142193 non-null  float64\n",
      " 6   Sunshine       142193 non-null  float64\n",
      " 7   WindGustDir    142193 non-null  object \n",
      " 8   WindGustSpeed  142193 non-null  float64\n",
      " 9   WindDir9am     142193 non-null  object \n",
      " 10  WindDir3pm     142193 non-null  object \n",
      " 11  WindSpeed9am   142193 non-null  float64\n",
      " 12  WindSpeed3pm   142193 non-null  float64\n",
      " 13  Humidity9am    142193 non-null  float64\n",
      " 14  Humidity3pm    142193 non-null  float64\n",
      " 15  Pressure9am    142193 non-null  float64\n",
      " 16  Pressure3pm    142193 non-null  float64\n",
      " 17  Cloud9am       142193 non-null  float64\n",
      " 18  Cloud3pm       142193 non-null  float64\n",
      " 19  Temp9am        142193 non-null  float64\n",
      " 20  Temp3pm        142193 non-null  float64\n",
      " 21  RainToday      142193 non-null  object \n",
      " 22  RainTomorrow   142193 non-null  object \n",
      " 23  Nan            142193 non-null  bool   \n",
      "dtypes: bool(1), float64(16), object(7)\n",
      "memory usage: 30.2+ MB\n"
     ]
    }
   ],
   "source": [
    "data.info()"
   ]
  },
  {
   "cell_type": "code",
   "execution_count": 19,
   "metadata": {},
   "outputs": [
    {
     "name": "stderr",
     "output_type": "stream",
     "text": [
      "/tmp/ipykernel_5583/4285349526.py:6: UserWarning: Boolean Series key will be reindexed to match DataFrame index.\n",
      "  sns.countplot(data=data[original_data.isnull().any(axis=1)], x='Cloud9am', hue='RainTomorrow', ax=ax)\n"
     ]
    },
    {
     "data": {
      "text/plain": [
       "<AxesSubplot:xlabel='Cloud9am', ylabel='count'>"
      ]
     },
     "execution_count": 19,
     "metadata": {},
     "output_type": "execute_result"
    },
    {
     "data": {
      "image/png": "[encoded data removed]",
      "text/plain": [
       "<Figure size 864x720 with 2 Axes>"
      ]
     },
     "metadata": {
      "needs_background": "light"
     },
     "output_type": "display_data"
    }
   ],
   "source": [
    "fig = plt.figure(figsize=(12,10))\n",
    "\n",
    "ax = fig.add_subplot(211)\n",
    "sns.countplot(data=original_data, x='Cloud9am', hue='RainTomorrow', ax=ax)\n",
    "ax = fig.add_subplot(212)\n",
    "sns.countplot(data=data[original_data.isnull().any(axis=1)], x='Cloud9am', hue='RainTomorrow', ax=ax)\n"
   ]
  },
  {
   "cell_type": "code",
   "execution_count": 28,
   "metadata": {},
   "outputs": [
    {
     "name": "stderr",
     "output_type": "stream",
     "text": [
      "/tmp/ipykernel_47924/3582940122.py:9: UserWarning: Boolean Series key will be reindexed to match DataFrame index.\n",
      "  sns.countplot(data=data[original_data.isnull().any(axis=1)], x=col, hue='RainTomorrow', ax=ax, order=directions)\n"
     ]
    },
    {
     "data": {
      "text/plain": [
       "<AxesSubplot:xlabel='WindGustDir', ylabel='count'>"
      ]
     },
     "execution_count": 28,
     "metadata": {},
     "output_type": "execute_result"
    },
    {
     "data": {
      "image/png": "[encoded data removed]",
      "text/plain": [
       "<Figure size 864x720 with 2 Axes>"
      ]
     },
     "metadata": {
      "needs_background": "light"
     },
     "output_type": "display_data"
    }
   ],
   "source": [
    "col = 'WindGustDir'\n",
    "directions = ['N', 'NNE', 'NE', 'ENE', 'E', 'ESE', 'SE', 'SSE', 'S', 'SSW', 'SW', 'WSW', 'W', 'WNW', 'NW', 'NNW']\n",
    "\n",
    "fig = plt.figure(figsize=(12,10))\n",
    "ax = fig.add_subplot(211)\n",
    "sns.countplot(data=original_data, x=col, hue='RainTomorrow', ax=ax, order=directions)\n",
    "\n",
    "ax = fig.add_subplot(212)\n",
    "sns.countplot(data=data[original_data.isnull().any(axis=1)], x=col, hue='RainTomorrow', ax=ax, order=directions)\n"
   ]
  },
  {
   "cell_type": "code",
   "execution_count": 29,
   "metadata": {},
   "outputs": [
    {
     "name": "stderr",
     "output_type": "stream",
     "text": [
      "/tmp/ipykernel_47924/2776169302.py:8: UserWarning: Boolean Series key will be reindexed to match DataFrame index.\n",
      "  sns.kdeplot(data=data[original_data.isnull().any(axis=1)], x=col, hue='RainTomorrow', ax=ax)\n"
     ]
    },
    {
     "data": {
      "text/plain": [
       "<AxesSubplot:xlabel='Sunshine', ylabel='Density'>"
      ]
     },
     "execution_count": 29,
     "metadata": {},
     "output_type": "execute_result"
    },
    {
     "data": {
      "image/png": "[encoded data removed]",
      "text/plain": [
       "<Figure size 864x720 with 2 Axes>"
      ]
     },
     "metadata": {
      "needs_background": "light"
     },
     "output_type": "display_data"
    }
   ],
   "source": [
    "col = 'Sunshine'\n",
    "\n",
    "fig = plt.figure(figsize=(12,10))\n",
    "ax = fig.add_subplot(211)\n",
    "sns.kdeplot(data=original_data, x=col, hue='RainTomorrow', ax=ax)\n",
    "\n",
    "ax = fig.add_subplot(212)\n",
    "sns.kdeplot(data=data[original_data.isnull().any(axis=1)], x=col, hue='RainTomorrow', ax=ax)\n"
   ]
  },
  {
   "cell_type": "code",
   "execution_count": 31,
   "metadata": {},
   "outputs": [],
   "source": [
    "cat_encoder = CategoricalEncoder(label_name='RainTomorrow', one_hot=False)\n",
    "data = cat_encoder.fit_transform(data)"
   ]
  },
  {
   "cell_type": "code",
   "execution_count": null,
   "metadata": {},
   "outputs": [],
   "source": []
  }
 ],
 "metadata": {
  "kernelspec": {
   "display_name": "Python 3.8.13 ('rl')",
   "language": "python",
   "name": "python3"
  },
  "language_info": {
   "codemirror_mode": {
    "name": "ipython",
    "version": 3
   },
   "file_extension": ".py",
   "mimetype": "text/x-python",
   "name": "python",
   "nbconvert_exporter": "python",
   "pygments_lexer": "ipython3",
   "version": "3.8.13 (default, Mar 28 2022, 11:38:47) \n[GCC 7.5.0]"
  },
  "orig_nbformat": 4,
  "vscode": {
   "interpreter": {
    "hash": "8d4b6eed0dbf8490271aa61b77bc07d9341c843e87fbb95f8141dc5582899399"
   }
  }
 },
 "nbformat": 4,
 "nbformat_minor": 2
}
